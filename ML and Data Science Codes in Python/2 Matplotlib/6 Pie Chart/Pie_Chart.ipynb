{
  "nbformat": 4,
  "nbformat_minor": 0,
  "metadata": {
    "colab": {
      "name": "Pie Chart.ipynb",
      "provenance": []
    },
    "kernelspec": {
      "name": "python3",
      "display_name": "Python 3"
    }
  },
  "cells": [
    {
      "cell_type": "markdown",
      "metadata": {
        "id": "OncrVDpbNXZ7",
        "colab_type": "text"
      },
      "source": [
        "# **Pie Chart**\n",
        "\n",
        "---\n",
        "\n"
      ]
    },
    {
      "cell_type": "code",
      "metadata": {
        "id": "Rl-KmRcFNklI",
        "colab_type": "code",
        "colab": {}
      },
      "source": [
        "import matplotlib.pyplot as plt"
      ],
      "execution_count": 0,
      "outputs": []
    },
    {
      "cell_type": "code",
      "metadata": {
        "id": "0ldw4t0HNn19",
        "colab_type": "code",
        "colab": {}
      },
      "source": [
        "activities = ['eat','sleep','work','play']"
      ],
      "execution_count": 0,
      "outputs": []
    },
    {
      "cell_type": "code",
      "metadata": {
        "id": "Kx-aR9w4Nw6G",
        "colab_type": "code",
        "colab": {}
      },
      "source": [
        "slices = [3,7,8,6]"
      ],
      "execution_count": 0,
      "outputs": []
    },
    {
      "cell_type": "code",
      "metadata": {
        "id": "Px-hN8ztN0o1",
        "colab_type": "code",
        "colab": {
          "base_uri": "https://localhost:8080/",
          "height": 249
        },
        "outputId": "ffaf71b2-eb64-405c-98fc-3eb2075abea1"
      },
      "source": [
        "colors = ['r','g','m','b']\n",
        "\n",
        "plt.pie(slices, labels=activities, colors=colors, startangle=90, shadow=True, explode=(0.2,0,0,0),autopct='%1.2f%%')\n",
        "plt.legend()\n",
        "plt.show()"
      ],
      "execution_count": 9,
      "outputs": [
        {
          "output_type": "display_data",
          "data": {
            "image/png": "[encoded data removed]",
            "text/plain": [
              "<Figure size 432x288 with 1 Axes>"
            ]
          },
          "metadata": {
            "tags": []
          }
        }
      ]
    },
    {
      "cell_type": "code",
      "metadata": {
        "id": "aISCFAcFOhV5",
        "colab_type": "code",
        "colab": {}
      },
      "source": [
        ""
      ],
      "execution_count": 0,
      "outputs": []
    }
  ]
}