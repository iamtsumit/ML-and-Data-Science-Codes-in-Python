{
  "nbformat": 4,
  "nbformat_minor": 0,
  "metadata": {
    "colab": {
      "name": "HistogramPlot.ipynb",
      "provenance": [],
      "collapsed_sections": []
    },
    "kernelspec": {
      "name": "python3",
      "display_name": "Python 3"
    }
  },
  "cells": [
    {
      "cell_type": "markdown",
      "metadata": {
        "id": "g8DcPHCnE3su",
        "colab_type": "text"
      },
      "source": [
        "#**Histogram Plot**\n",
        "\n",
        "---\n",
        "\n"
      ]
    },
    {
      "cell_type": "code",
      "metadata": {
        "id": "twFH8N0dE-Cu",
        "colab_type": "code",
        "colab": {}
      },
      "source": [
        "import matplotlib.pyplot as plt"
      ],
      "execution_count": 0,
      "outputs": []
    },
    {
      "cell_type": "code",
      "metadata": {
        "id": "1CSZBetKFFu3",
        "colab_type": "code",
        "colab": {}
      },
      "source": [
        "ages = [2,50,70,40,30,45,50,45,43,40,44,60,7,13,51,18,90,77,32,21,20,40]"
      ],
      "execution_count": 0,
      "outputs": []
    },
    {
      "cell_type": "code",
      "metadata": {
        "id": "rW3Mc1gGFWm1",
        "colab_type": "code",
        "colab": {}
      },
      "source": [
        "range = (0,100)"
      ],
      "execution_count": 0,
      "outputs": []
    },
    {
      "cell_type": "code",
      "metadata": {
        "id": "zOg4XOUiFZmi",
        "colab_type": "code",
        "colab": {}
      },
      "source": [
        "bins = 10"
      ],
      "execution_count": 0,
      "outputs": []
    },
    {
      "cell_type": "code",
      "metadata": {
        "id": "PimpSLoPFdbp",
        "colab_type": "code",
        "colab": {
          "base_uri": "https://localhost:8080/",
          "height": 295
        },
        "outputId": "60501675-eff1-4278-dbe8-f4318f115ca1"
      },
      "source": [
        "plt.hist(ages,bins,range,color='green',histtype='bar',rwidth=0.7)\n",
        "plt.xlabel('Ages')\n",
        "plt.ylabel('Bins')\n",
        "plt.title('Histogram Plot')\n",
        "plt.show()"
      ],
      "execution_count": 6,
      "outputs": [
        {
          "output_type": "display_data",
          "data": {
            "image/png": "[encoded data removed]",
            "text/plain": [
              "<Figure size 432x288 with 1 Axes>"
            ]
          },
          "metadata": {
            "tags": []
          }
        }
      ]
    }
  ]
}