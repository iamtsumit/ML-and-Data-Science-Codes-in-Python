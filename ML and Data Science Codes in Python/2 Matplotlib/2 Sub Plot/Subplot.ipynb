{
  "nbformat": 4,
  "nbformat_minor": 0,
  "metadata": {
    "colab": {
      "name": "Subplot.ipynb",
      "provenance": [],
      "collapsed_sections": []
    },
    "kernelspec": {
      "name": "python3",
      "display_name": "Python 3"
    }
  },
  "cells": [
    {
      "cell_type": "markdown",
      "metadata": {
        "id": "uh2BWG0v_n29",
        "colab_type": "text"
      },
      "source": [
        "#**Subplot in Matplotlib**\n",
        "\n",
        "---\n",
        "\n"
      ]
    },
    {
      "cell_type": "code",
      "metadata": {
        "id": "-EpFzumv_wVl",
        "colab_type": "code",
        "colab": {}
      },
      "source": [
        "import numpy as np"
      ],
      "execution_count": 0,
      "outputs": []
    },
    {
      "cell_type": "code",
      "metadata": {
        "id": "onPMNbyt_5zM",
        "colab_type": "code",
        "colab": {}
      },
      "source": [
        "import matplotlib.pyplot as plt"
      ],
      "execution_count": 0,
      "outputs": []
    },
    {
      "cell_type": "code",
      "metadata": {
        "id": "F2fP8xUT_9x8",
        "colab_type": "code",
        "colab": {}
      },
      "source": [
        "x1 = np.linspace(0.0,5.0)"
      ],
      "execution_count": 0,
      "outputs": []
    },
    {
      "cell_type": "code",
      "metadata": {
        "id": "CjV_N4BmASrH",
        "colab_type": "code",
        "colab": {
          "base_uri": "https://localhost:8080/",
          "height": 187
        },
        "outputId": "86a9ddfc-c49d-41b0-e371-8856cb5fe876"
      },
      "source": [
        "x1"
      ],
      "execution_count": 4,
      "outputs": [
        {
          "output_type": "execute_result",
          "data": {
            "text/plain": [
              "array([0.        , 0.10204082, 0.20408163, 0.30612245, 0.40816327,\n",
              "       0.51020408, 0.6122449 , 0.71428571, 0.81632653, 0.91836735,\n",
              "       1.02040816, 1.12244898, 1.2244898 , 1.32653061, 1.42857143,\n",
              "       1.53061224, 1.63265306, 1.73469388, 1.83673469, 1.93877551,\n",
              "       2.04081633, 2.14285714, 2.24489796, 2.34693878, 2.44897959,\n",
              "       2.55102041, 2.65306122, 2.75510204, 2.85714286, 2.95918367,\n",
              "       3.06122449, 3.16326531, 3.26530612, 3.36734694, 3.46938776,\n",
              "       3.57142857, 3.67346939, 3.7755102 , 3.87755102, 3.97959184,\n",
              "       4.08163265, 4.18367347, 4.28571429, 4.3877551 , 4.48979592,\n",
              "       4.59183673, 4.69387755, 4.79591837, 4.89795918, 5.        ])"
            ]
          },
          "metadata": {
            "tags": []
          },
          "execution_count": 4
        }
      ]
    },
    {
      "cell_type": "code",
      "metadata": {
        "id": "I9wXCsibAUtu",
        "colab_type": "code",
        "colab": {}
      },
      "source": [
        "x2 = np.linspace(0.0,2.0)"
      ],
      "execution_count": 0,
      "outputs": []
    },
    {
      "cell_type": "code",
      "metadata": {
        "id": "Bu58mrf9AsbT",
        "colab_type": "code",
        "colab": {
          "base_uri": "https://localhost:8080/",
          "height": 187
        },
        "outputId": "df0394ce-e057-47b4-ba96-a4620cef37ce"
      },
      "source": [
        "x2"
      ],
      "execution_count": 6,
      "outputs": [
        {
          "output_type": "execute_result",
          "data": {
            "text/plain": [
              "array([0.        , 0.04081633, 0.08163265, 0.12244898, 0.16326531,\n",
              "       0.20408163, 0.24489796, 0.28571429, 0.32653061, 0.36734694,\n",
              "       0.40816327, 0.44897959, 0.48979592, 0.53061224, 0.57142857,\n",
              "       0.6122449 , 0.65306122, 0.69387755, 0.73469388, 0.7755102 ,\n",
              "       0.81632653, 0.85714286, 0.89795918, 0.93877551, 0.97959184,\n",
              "       1.02040816, 1.06122449, 1.10204082, 1.14285714, 1.18367347,\n",
              "       1.2244898 , 1.26530612, 1.30612245, 1.34693878, 1.3877551 ,\n",
              "       1.42857143, 1.46938776, 1.51020408, 1.55102041, 1.59183673,\n",
              "       1.63265306, 1.67346939, 1.71428571, 1.75510204, 1.79591837,\n",
              "       1.83673469, 1.87755102, 1.91836735, 1.95918367, 2.        ])"
            ]
          },
          "metadata": {
            "tags": []
          },
          "execution_count": 6
        }
      ]
    },
    {
      "cell_type": "code",
      "metadata": {
        "id": "JJp2MAoPAtLZ",
        "colab_type": "code",
        "colab": {}
      },
      "source": [
        "y1 = np.cos(2*np.pi*x1)*np.exp(-x1)"
      ],
      "execution_count": 0,
      "outputs": []
    },
    {
      "cell_type": "code",
      "metadata": {
        "id": "4apzRnJBBAFf",
        "colab_type": "code",
        "colab": {}
      },
      "source": [
        "y2 = np.cos(2*np.pi*x2)"
      ],
      "execution_count": 0,
      "outputs": []
    },
    {
      "cell_type": "code",
      "metadata": {
        "id": "JvoHYk7TBGXy",
        "colab_type": "code",
        "colab": {
          "base_uri": "https://localhost:8080/",
          "height": 295
        },
        "outputId": "9fdd97de-fc24-40d8-dcd1-c12797c634f3"
      },
      "source": [
        "plt.subplot(2,1,1)   #Row, Column, Position\n",
        "plt.plot(x1,y1,'o-')\n",
        "plt.title('Subplot - 1')\n",
        "plt.xlabel('x1')\n",
        "plt.ylabel('Amp(y1)')\n",
        "\n",
        "plt.subplot(2,1,2)   #Row, Column, Position\n",
        "plt.plot(x2,y2,'.-')\n",
        "plt.title('Subplot - 2')\n",
        "plt.xlabel('x2')\n",
        "plt.ylabel('Amp(y2)')\n",
        "\n",
        "plt.show()"
      ],
      "execution_count": 9,
      "outputs": [
        {
          "output_type": "display_data",
          "data": {
            "image/png": "[encoded data removed]",
            "text/plain": [
              "<Figure size 432x288 with 2 Axes>"
            ]
          },
          "metadata": {
            "tags": []
          }
        }
      ]
    }
  ]
}