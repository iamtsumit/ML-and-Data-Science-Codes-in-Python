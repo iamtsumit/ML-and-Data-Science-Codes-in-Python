{
  "nbformat": 4,
  "nbformat_minor": 0,
  "metadata": {
    "colab": {
      "name": "16 Duplicated Method in Pandas.ipynb",
      "provenance": [],
      "collapsed_sections": []
    },
    "kernelspec": {
      "name": "python3",
      "display_name": "Python 3"
    }
  },
  "cells": [
    {
      "cell_type": "markdown",
      "metadata": {
        "id": "3D-EKv8MU-oS",
        "colab_type": "text"
      },
      "source": [
        "# **Duplicated Method in Pandas**\n",
        "\n",
        "---\n",
        "\n"
      ]
    },
    {
      "cell_type": "code",
      "metadata": {
        "id": "hyY7ljDdU9Ti",
        "colab_type": "code",
        "colab": {}
      },
      "source": [
        "import pandas as pd"
      ],
      "execution_count": 0,
      "outputs": []
    },
    {
      "cell_type": "code",
      "metadata": {
        "id": "nol1fvKbVHnw",
        "colab_type": "code",
        "colab": {
          "resources": {
            "http://localhost:8080/nbextensions/google.colab/files.js": {
              "data": "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",
              "ok": true,
              "headers": [
                [
                  "content-type",
                  "application/javascript"
                ]
              ],
              "status": 200,
              "status_text": ""
            }
          },
          "base_uri": "https://localhost:8080/",
          "height": 75
        },
        "outputId": "d7bf6d47-5ab2-42d6-d108-4cb16ff1fd4f"
      },
      "source": [
        "from google.colab import files\n",
        "upload = files.upload()"
      ],
      "execution_count": 3,
      "outputs": [
        {
          "output_type": "display_data",
          "data": {
            "text/html": [
              "\n",
              "     <input type=\"file\" id=\"files-82debc91-6ebd-435f-85ae-22d396b842d5\" name=\"files[]\" multiple disabled />\n",
              "     <output id=\"result-82debc91-6ebd-435f-85ae-22d396b842d5\">\n",
              "      Upload widget is only available when the cell has been executed in the\n",
              "      current browser session. Please rerun this cell to enable.\n",
              "      </output>\n",
              "      <script src=\"/nbextensions/google.colab/files.js\"></script> "
            ],
            "text/plain": [
              "<IPython.core.display.HTML object>"
            ]
          },
          "metadata": {
            "tags": []
          }
        },
        {
          "output_type": "stream",
          "text": [
            "Saving employees.csv to employees.csv\n"
          ],
          "name": "stdout"
        }
      ]
    },
    {
      "cell_type": "code",
      "metadata": {
        "id": "4GNwvvGuVI_o",
        "colab_type": "code",
        "colab": {}
      },
      "source": [
        "df = pd.read_csv('employees.csv', parse_dates = ['Start Date', 'Last Login Time'])"
      ],
      "execution_count": 0,
      "outputs": []
    },
    {
      "cell_type": "code",
      "metadata": {
        "id": "RCx9eLl-VfvY",
        "colab_type": "code",
        "colab": {}
      },
      "source": [
        "df['Senior Management'] = df['Senior Management'].astype('bool')"
      ],
      "execution_count": 0,
      "outputs": []
    },
    {
      "cell_type": "code",
      "metadata": {
        "id": "x1khl8rvVhb3",
        "colab_type": "code",
        "colab": {}
      },
      "source": [
        "df['Gender'] = df['Gender'].astype('category')"
      ],
      "execution_count": 0,
      "outputs": []
    },
    {
      "cell_type": "code",
      "metadata": {
        "id": "0BfTFkp0VjEJ",
        "colab_type": "code",
        "colab": {
          "base_uri": "https://localhost:8080/",
          "height": 198
        },
        "outputId": "13001c8e-ac2a-4924-bf01-da40fefa3761"
      },
      "source": [
        "df.head()"
      ],
      "execution_count": 7,
      "outputs": [
        {
          "output_type": "execute_result",
          "data": {
            "text/html": [
              "<div>\n",
              "<style scoped>\n",
              "    .dataframe tbody tr th:only-of-type {\n",
              "        vertical-align: middle;\n",
              "    }\n",
              "\n",
              "    .dataframe tbody tr th {\n",
              "        vertical-align: top;\n",
              "    }\n",
              "\n",
              "    .dataframe thead th {\n",
              "        text-align: right;\n",
              "    }\n",
              "</style>\n",
              "<table border=\"1\" class=\"dataframe\">\n",
              "  <thead>\n",
              "    <tr style=\"text-align: right;\">\n",
              "      <th></th>\n",
              "      <th>First Name</th>\n",
              "      <th>Gender</th>\n",
              "      <th>Start Date</th>\n",
              "      <th>Last Login Time</th>\n",
              "      <th>Salary</th>\n",
              "      <th>Bonus %</th>\n",
              "      <th>Senior Management</th>\n",
              "      <th>Team</th>\n",
              "    </tr>\n",
              "  </thead>\n",
              "  <tbody>\n",
              "    <tr>\n",
              "      <th>0</th>\n",
              "      <td>Douglas</td>\n",
              "      <td>Male</td>\n",
              "      <td>1993-08-06</td>\n",
              "      <td>2020-04-18 12:42:00</td>\n",
              "      <td>97308</td>\n",
              "      <td>6.945</td>\n",
              "      <td>True</td>\n",
              "      <td>Marketing</td>\n",
              "    </tr>\n",
              "    <tr>\n",
              "      <th>1</th>\n",
              "      <td>Thomas</td>\n",
              "      <td>Male</td>\n",
              "      <td>1996-03-31</td>\n",
              "      <td>2020-04-18 06:53:00</td>\n",
              "      <td>61933</td>\n",
              "      <td>4.170</td>\n",
              "      <td>True</td>\n",
              "      <td>NaN</td>\n",
              "    </tr>\n",
              "    <tr>\n",
              "      <th>2</th>\n",
              "      <td>Maria</td>\n",
              "      <td>Female</td>\n",
              "      <td>1993-04-23</td>\n",
              "      <td>2020-04-18 11:17:00</td>\n",
              "      <td>130590</td>\n",
              "      <td>11.858</td>\n",
              "      <td>False</td>\n",
              "      <td>Finance</td>\n",
              "    </tr>\n",
              "    <tr>\n",
              "      <th>3</th>\n",
              "      <td>Jerry</td>\n",
              "      <td>Male</td>\n",
              "      <td>2005-03-04</td>\n",
              "      <td>2020-04-18 13:00:00</td>\n",
              "      <td>138705</td>\n",
              "      <td>9.340</td>\n",
              "      <td>True</td>\n",
              "      <td>Finance</td>\n",
              "    </tr>\n",
              "    <tr>\n",
              "      <th>4</th>\n",
              "      <td>Larry</td>\n",
              "      <td>Male</td>\n",
              "      <td>1998-01-24</td>\n",
              "      <td>2020-04-18 16:47:00</td>\n",
              "      <td>101004</td>\n",
              "      <td>1.389</td>\n",
              "      <td>True</td>\n",
              "      <td>Client Services</td>\n",
              "    </tr>\n",
              "  </tbody>\n",
              "</table>\n",
              "</div>"
            ],
            "text/plain": [
              "  First Name  Gender Start Date  ... Bonus %  Senior Management             Team\n",
              "0    Douglas    Male 1993-08-06  ...   6.945               True        Marketing\n",
              "1     Thomas    Male 1996-03-31  ...   4.170               True              NaN\n",
              "2      Maria  Female 1993-04-23  ...  11.858              False          Finance\n",
              "3      Jerry    Male 2005-03-04  ...   9.340               True          Finance\n",
              "4      Larry    Male 1998-01-24  ...   1.389               True  Client Services\n",
              "\n",
              "[5 rows x 8 columns]"
            ]
          },
          "metadata": {
            "tags": []
          },
          "execution_count": 7
        }
      ]
    },
    {
      "cell_type": "code",
      "metadata": {
        "id": "v8LgEcF6VkoW",
        "colab_type": "code",
        "colab": {}
      },
      "source": [
        "df.sort_values('First Name', inplace = True)"
      ],
      "execution_count": 0,
      "outputs": []
    },
    {
      "cell_type": "code",
      "metadata": {
        "id": "r0KxPA7sV1Bw",
        "colab_type": "code",
        "colab": {
          "base_uri": "https://localhost:8080/",
          "height": 198
        },
        "outputId": "e34886dd-cbdd-441a-bd06-4a3d12e0422f"
      },
      "source": [
        "df[df['First Name'].duplicated()].head() # Consider first value as unique remaining as duplicate but still show the remaining values as well"
      ],
      "execution_count": 9,
      "outputs": [
        {
          "output_type": "execute_result",
          "data": {
            "text/html": [
              "<div>\n",
              "<style scoped>\n",
              "    .dataframe tbody tr th:only-of-type {\n",
              "        vertical-align: middle;\n",
              "    }\n",
              "\n",
              "    .dataframe tbody tr th {\n",
              "        vertical-align: top;\n",
              "    }\n",
              "\n",
              "    .dataframe thead th {\n",
              "        text-align: right;\n",
              "    }\n",
              "</style>\n",
              "<table border=\"1\" class=\"dataframe\">\n",
              "  <thead>\n",
              "    <tr style=\"text-align: right;\">\n",
              "      <th></th>\n",
              "      <th>First Name</th>\n",
              "      <th>Gender</th>\n",
              "      <th>Start Date</th>\n",
              "      <th>Last Login Time</th>\n",
              "      <th>Salary</th>\n",
              "      <th>Bonus %</th>\n",
              "      <th>Senior Management</th>\n",
              "      <th>Team</th>\n",
              "    </tr>\n",
              "  </thead>\n",
              "  <tbody>\n",
              "    <tr>\n",
              "      <th>327</th>\n",
              "      <td>Aaron</td>\n",
              "      <td>Male</td>\n",
              "      <td>1994-01-29</td>\n",
              "      <td>2020-04-18 18:48:00</td>\n",
              "      <td>58755</td>\n",
              "      <td>5.097</td>\n",
              "      <td>True</td>\n",
              "      <td>Marketing</td>\n",
              "    </tr>\n",
              "    <tr>\n",
              "      <th>440</th>\n",
              "      <td>Aaron</td>\n",
              "      <td>Male</td>\n",
              "      <td>1990-07-22</td>\n",
              "      <td>2020-04-18 14:53:00</td>\n",
              "      <td>52119</td>\n",
              "      <td>11.343</td>\n",
              "      <td>True</td>\n",
              "      <td>Client Services</td>\n",
              "    </tr>\n",
              "    <tr>\n",
              "      <th>937</th>\n",
              "      <td>Aaron</td>\n",
              "      <td>NaN</td>\n",
              "      <td>1986-01-22</td>\n",
              "      <td>2020-04-18 19:39:00</td>\n",
              "      <td>63126</td>\n",
              "      <td>18.424</td>\n",
              "      <td>False</td>\n",
              "      <td>Client Services</td>\n",
              "    </tr>\n",
              "    <tr>\n",
              "      <th>141</th>\n",
              "      <td>Adam</td>\n",
              "      <td>Male</td>\n",
              "      <td>1990-12-24</td>\n",
              "      <td>2020-04-18 20:57:00</td>\n",
              "      <td>110194</td>\n",
              "      <td>14.727</td>\n",
              "      <td>True</td>\n",
              "      <td>Product</td>\n",
              "    </tr>\n",
              "    <tr>\n",
              "      <th>302</th>\n",
              "      <td>Adam</td>\n",
              "      <td>Male</td>\n",
              "      <td>2007-07-05</td>\n",
              "      <td>2020-04-18 11:59:00</td>\n",
              "      <td>71276</td>\n",
              "      <td>5.027</td>\n",
              "      <td>True</td>\n",
              "      <td>Human Resources</td>\n",
              "    </tr>\n",
              "  </tbody>\n",
              "</table>\n",
              "</div>"
            ],
            "text/plain": [
              "    First Name Gender Start Date  ... Bonus %  Senior Management             Team\n",
              "327      Aaron   Male 1994-01-29  ...   5.097               True        Marketing\n",
              "440      Aaron   Male 1990-07-22  ...  11.343               True  Client Services\n",
              "937      Aaron    NaN 1986-01-22  ...  18.424              False  Client Services\n",
              "141       Adam   Male 1990-12-24  ...  14.727               True          Product\n",
              "302       Adam   Male 2007-07-05  ...   5.027               True  Human Resources\n",
              "\n",
              "[5 rows x 8 columns]"
            ]
          },
          "metadata": {
            "tags": []
          },
          "execution_count": 9
        }
      ]
    },
    {
      "cell_type": "code",
      "metadata": {
        "id": "x5MW4ZlLV7dB",
        "colab_type": "code",
        "colab": {
          "base_uri": "https://localhost:8080/",
          "height": 198
        },
        "outputId": "f879fc77-8b16-413a-b451-4f6ed0b5075e"
      },
      "source": [
        "df[df['First Name'].duplicated(keep='last')].head() # Consider last value as unique remaining as duplicate but still show the remaining values as well"
      ],
      "execution_count": 11,
      "outputs": [
        {
          "output_type": "execute_result",
          "data": {
            "text/html": [
              "<div>\n",
              "<style scoped>\n",
              "    .dataframe tbody tr th:only-of-type {\n",
              "        vertical-align: middle;\n",
              "    }\n",
              "\n",
              "    .dataframe tbody tr th {\n",
              "        vertical-align: top;\n",
              "    }\n",
              "\n",
              "    .dataframe thead th {\n",
              "        text-align: right;\n",
              "    }\n",
              "</style>\n",
              "<table border=\"1\" class=\"dataframe\">\n",
              "  <thead>\n",
              "    <tr style=\"text-align: right;\">\n",
              "      <th></th>\n",
              "      <th>First Name</th>\n",
              "      <th>Gender</th>\n",
              "      <th>Start Date</th>\n",
              "      <th>Last Login Time</th>\n",
              "      <th>Salary</th>\n",
              "      <th>Bonus %</th>\n",
              "      <th>Senior Management</th>\n",
              "      <th>Team</th>\n",
              "    </tr>\n",
              "  </thead>\n",
              "  <tbody>\n",
              "    <tr>\n",
              "      <th>101</th>\n",
              "      <td>Aaron</td>\n",
              "      <td>Male</td>\n",
              "      <td>2012-02-17</td>\n",
              "      <td>2020-04-18 10:20:00</td>\n",
              "      <td>61602</td>\n",
              "      <td>11.849</td>\n",
              "      <td>True</td>\n",
              "      <td>Marketing</td>\n",
              "    </tr>\n",
              "    <tr>\n",
              "      <th>327</th>\n",
              "      <td>Aaron</td>\n",
              "      <td>Male</td>\n",
              "      <td>1994-01-29</td>\n",
              "      <td>2020-04-18 18:48:00</td>\n",
              "      <td>58755</td>\n",
              "      <td>5.097</td>\n",
              "      <td>True</td>\n",
              "      <td>Marketing</td>\n",
              "    </tr>\n",
              "    <tr>\n",
              "      <th>440</th>\n",
              "      <td>Aaron</td>\n",
              "      <td>Male</td>\n",
              "      <td>1990-07-22</td>\n",
              "      <td>2020-04-18 14:53:00</td>\n",
              "      <td>52119</td>\n",
              "      <td>11.343</td>\n",
              "      <td>True</td>\n",
              "      <td>Client Services</td>\n",
              "    </tr>\n",
              "    <tr>\n",
              "      <th>137</th>\n",
              "      <td>Adam</td>\n",
              "      <td>Male</td>\n",
              "      <td>2011-05-21</td>\n",
              "      <td>2020-04-18 01:45:00</td>\n",
              "      <td>95327</td>\n",
              "      <td>15.120</td>\n",
              "      <td>False</td>\n",
              "      <td>Distribution</td>\n",
              "    </tr>\n",
              "    <tr>\n",
              "      <th>141</th>\n",
              "      <td>Adam</td>\n",
              "      <td>Male</td>\n",
              "      <td>1990-12-24</td>\n",
              "      <td>2020-04-18 20:57:00</td>\n",
              "      <td>110194</td>\n",
              "      <td>14.727</td>\n",
              "      <td>True</td>\n",
              "      <td>Product</td>\n",
              "    </tr>\n",
              "  </tbody>\n",
              "</table>\n",
              "</div>"
            ],
            "text/plain": [
              "    First Name Gender Start Date  ... Bonus %  Senior Management             Team\n",
              "101      Aaron   Male 2012-02-17  ...  11.849               True        Marketing\n",
              "327      Aaron   Male 1994-01-29  ...   5.097               True        Marketing\n",
              "440      Aaron   Male 1990-07-22  ...  11.343               True  Client Services\n",
              "137       Adam   Male 2011-05-21  ...  15.120              False     Distribution\n",
              "141       Adam   Male 1990-12-24  ...  14.727               True          Product\n",
              "\n",
              "[5 rows x 8 columns]"
            ]
          },
          "metadata": {
            "tags": []
          },
          "execution_count": 11
        }
      ]
    },
    {
      "cell_type": "code",
      "metadata": {
        "id": "hvNzeydaWX4H",
        "colab_type": "code",
        "colab": {
          "base_uri": "https://localhost:8080/",
          "height": 198
        },
        "outputId": "4cda43bd-7305-46c8-ceaa-268d39dec93d"
      },
      "source": [
        "df[df['First Name'].duplicated(keep = False)].head() #Show everything"
      ],
      "execution_count": 12,
      "outputs": [
        {
          "output_type": "execute_result",
          "data": {
            "text/html": [
              "<div>\n",
              "<style scoped>\n",
              "    .dataframe tbody tr th:only-of-type {\n",
              "        vertical-align: middle;\n",
              "    }\n",
              "\n",
              "    .dataframe tbody tr th {\n",
              "        vertical-align: top;\n",
              "    }\n",
              "\n",
              "    .dataframe thead th {\n",
              "        text-align: right;\n",
              "    }\n",
              "</style>\n",
              "<table border=\"1\" class=\"dataframe\">\n",
              "  <thead>\n",
              "    <tr style=\"text-align: right;\">\n",
              "      <th></th>\n",
              "      <th>First Name</th>\n",
              "      <th>Gender</th>\n",
              "      <th>Start Date</th>\n",
              "      <th>Last Login Time</th>\n",
              "      <th>Salary</th>\n",
              "      <th>Bonus %</th>\n",
              "      <th>Senior Management</th>\n",
              "      <th>Team</th>\n",
              "    </tr>\n",
              "  </thead>\n",
              "  <tbody>\n",
              "    <tr>\n",
              "      <th>101</th>\n",
              "      <td>Aaron</td>\n",
              "      <td>Male</td>\n",
              "      <td>2012-02-17</td>\n",
              "      <td>2020-04-18 10:20:00</td>\n",
              "      <td>61602</td>\n",
              "      <td>11.849</td>\n",
              "      <td>True</td>\n",
              "      <td>Marketing</td>\n",
              "    </tr>\n",
              "    <tr>\n",
              "      <th>327</th>\n",
              "      <td>Aaron</td>\n",
              "      <td>Male</td>\n",
              "      <td>1994-01-29</td>\n",
              "      <td>2020-04-18 18:48:00</td>\n",
              "      <td>58755</td>\n",
              "      <td>5.097</td>\n",
              "      <td>True</td>\n",
              "      <td>Marketing</td>\n",
              "    </tr>\n",
              "    <tr>\n",
              "      <th>440</th>\n",
              "      <td>Aaron</td>\n",
              "      <td>Male</td>\n",
              "      <td>1990-07-22</td>\n",
              "      <td>2020-04-18 14:53:00</td>\n",
              "      <td>52119</td>\n",
              "      <td>11.343</td>\n",
              "      <td>True</td>\n",
              "      <td>Client Services</td>\n",
              "    </tr>\n",
              "    <tr>\n",
              "      <th>937</th>\n",
              "      <td>Aaron</td>\n",
              "      <td>NaN</td>\n",
              "      <td>1986-01-22</td>\n",
              "      <td>2020-04-18 19:39:00</td>\n",
              "      <td>63126</td>\n",
              "      <td>18.424</td>\n",
              "      <td>False</td>\n",
              "      <td>Client Services</td>\n",
              "    </tr>\n",
              "    <tr>\n",
              "      <th>137</th>\n",
              "      <td>Adam</td>\n",
              "      <td>Male</td>\n",
              "      <td>2011-05-21</td>\n",
              "      <td>2020-04-18 01:45:00</td>\n",
              "      <td>95327</td>\n",
              "      <td>15.120</td>\n",
              "      <td>False</td>\n",
              "      <td>Distribution</td>\n",
              "    </tr>\n",
              "  </tbody>\n",
              "</table>\n",
              "</div>"
            ],
            "text/plain": [
              "    First Name Gender Start Date  ... Bonus %  Senior Management             Team\n",
              "101      Aaron   Male 2012-02-17  ...  11.849               True        Marketing\n",
              "327      Aaron   Male 1994-01-29  ...   5.097               True        Marketing\n",
              "440      Aaron   Male 1990-07-22  ...  11.343               True  Client Services\n",
              "937      Aaron    NaN 1986-01-22  ...  18.424              False  Client Services\n",
              "137       Adam   Male 2011-05-21  ...  15.120              False     Distribution\n",
              "\n",
              "[5 rows x 8 columns]"
            ]
          },
          "metadata": {
            "tags": []
          },
          "execution_count": 12
        }
      ]
    },
    {
      "cell_type": "code",
      "metadata": {
        "id": "7I5SoofPXa36",
        "colab_type": "code",
        "colab": {}
      },
      "source": [
        "mask = ~df['First Name'].duplicated(keep = False) # Show only unique vaues"
      ],
      "execution_count": 0,
      "outputs": []
    },
    {
      "cell_type": "code",
      "metadata": {
        "id": "lIA6_AH6Xhsn",
        "colab_type": "code",
        "colab": {
          "base_uri": "https://localhost:8080/",
          "height": 318
        },
        "outputId": "0f31523a-f18f-4f4d-eb26-40b6fcc41dda"
      },
      "source": [
        "df[mask]"
      ],
      "execution_count": 15,
      "outputs": [
        {
          "output_type": "execute_result",
          "data": {
            "text/html": [
              "<div>\n",
              "<style scoped>\n",
              "    .dataframe tbody tr th:only-of-type {\n",
              "        vertical-align: middle;\n",
              "    }\n",
              "\n",
              "    .dataframe tbody tr th {\n",
              "        vertical-align: top;\n",
              "    }\n",
              "\n",
              "    .dataframe thead th {\n",
              "        text-align: right;\n",
              "    }\n",
              "</style>\n",
              "<table border=\"1\" class=\"dataframe\">\n",
              "  <thead>\n",
              "    <tr style=\"text-align: right;\">\n",
              "      <th></th>\n",
              "      <th>First Name</th>\n",
              "      <th>Gender</th>\n",
              "      <th>Start Date</th>\n",
              "      <th>Last Login Time</th>\n",
              "      <th>Salary</th>\n",
              "      <th>Bonus %</th>\n",
              "      <th>Senior Management</th>\n",
              "      <th>Team</th>\n",
              "    </tr>\n",
              "  </thead>\n",
              "  <tbody>\n",
              "    <tr>\n",
              "      <th>8</th>\n",
              "      <td>Angela</td>\n",
              "      <td>Female</td>\n",
              "      <td>2005-11-22</td>\n",
              "      <td>2020-04-18 06:29:00</td>\n",
              "      <td>95570</td>\n",
              "      <td>18.523</td>\n",
              "      <td>True</td>\n",
              "      <td>Engineering</td>\n",
              "    </tr>\n",
              "    <tr>\n",
              "      <th>688</th>\n",
              "      <td>Brian</td>\n",
              "      <td>Male</td>\n",
              "      <td>2007-04-07</td>\n",
              "      <td>2020-04-18 22:47:00</td>\n",
              "      <td>93901</td>\n",
              "      <td>17.821</td>\n",
              "      <td>True</td>\n",
              "      <td>Legal</td>\n",
              "    </tr>\n",
              "    <tr>\n",
              "      <th>190</th>\n",
              "      <td>Carol</td>\n",
              "      <td>Female</td>\n",
              "      <td>1996-03-19</td>\n",
              "      <td>2020-04-18 03:39:00</td>\n",
              "      <td>57783</td>\n",
              "      <td>9.129</td>\n",
              "      <td>False</td>\n",
              "      <td>Finance</td>\n",
              "    </tr>\n",
              "    <tr>\n",
              "      <th>887</th>\n",
              "      <td>David</td>\n",
              "      <td>Male</td>\n",
              "      <td>2009-12-05</td>\n",
              "      <td>2020-04-18 08:48:00</td>\n",
              "      <td>92242</td>\n",
              "      <td>15.407</td>\n",
              "      <td>False</td>\n",
              "      <td>Legal</td>\n",
              "    </tr>\n",
              "    <tr>\n",
              "      <th>5</th>\n",
              "      <td>Dennis</td>\n",
              "      <td>Male</td>\n",
              "      <td>1987-04-18</td>\n",
              "      <td>2020-04-18 01:35:00</td>\n",
              "      <td>115163</td>\n",
              "      <td>10.125</td>\n",
              "      <td>False</td>\n",
              "      <td>Legal</td>\n",
              "    </tr>\n",
              "    <tr>\n",
              "      <th>495</th>\n",
              "      <td>Eugene</td>\n",
              "      <td>Male</td>\n",
              "      <td>1984-05-24</td>\n",
              "      <td>2020-04-18 10:54:00</td>\n",
              "      <td>81077</td>\n",
              "      <td>2.117</td>\n",
              "      <td>False</td>\n",
              "      <td>Sales</td>\n",
              "    </tr>\n",
              "    <tr>\n",
              "      <th>33</th>\n",
              "      <td>Jean</td>\n",
              "      <td>Female</td>\n",
              "      <td>1993-12-18</td>\n",
              "      <td>2020-04-18 09:07:00</td>\n",
              "      <td>119082</td>\n",
              "      <td>16.180</td>\n",
              "      <td>False</td>\n",
              "      <td>Business Development</td>\n",
              "    </tr>\n",
              "    <tr>\n",
              "      <th>832</th>\n",
              "      <td>Keith</td>\n",
              "      <td>Male</td>\n",
              "      <td>2003-02-12</td>\n",
              "      <td>2020-04-18 15:02:00</td>\n",
              "      <td>120672</td>\n",
              "      <td>19.467</td>\n",
              "      <td>False</td>\n",
              "      <td>Legal</td>\n",
              "    </tr>\n",
              "    <tr>\n",
              "      <th>291</th>\n",
              "      <td>Tammy</td>\n",
              "      <td>Female</td>\n",
              "      <td>1984-11-11</td>\n",
              "      <td>2020-04-18 10:30:00</td>\n",
              "      <td>132839</td>\n",
              "      <td>17.463</td>\n",
              "      <td>True</td>\n",
              "      <td>Client Services</td>\n",
              "    </tr>\n",
              "  </tbody>\n",
              "</table>\n",
              "</div>"
            ],
            "text/plain": [
              "    First Name  Gender  ... Senior Management                  Team\n",
              "8       Angela  Female  ...              True           Engineering\n",
              "688      Brian    Male  ...              True                 Legal\n",
              "190      Carol  Female  ...             False               Finance\n",
              "887      David    Male  ...             False                 Legal\n",
              "5       Dennis    Male  ...             False                 Legal\n",
              "495     Eugene    Male  ...             False                 Sales\n",
              "33        Jean  Female  ...             False  Business Development\n",
              "832      Keith    Male  ...             False                 Legal\n",
              "291      Tammy  Female  ...              True       Client Services\n",
              "\n",
              "[9 rows x 8 columns]"
            ]
          },
          "metadata": {
            "tags": []
          },
          "execution_count": 15
        }
      ]
    }
  ]
}