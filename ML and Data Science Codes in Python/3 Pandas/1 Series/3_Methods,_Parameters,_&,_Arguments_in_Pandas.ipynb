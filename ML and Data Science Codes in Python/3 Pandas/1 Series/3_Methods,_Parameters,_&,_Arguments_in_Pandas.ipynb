{
  "nbformat": 4,
  "nbformat_minor": 0,
  "metadata": {
    "colab": {
      "name": "3 Methods, Parameters, &, Arguments in Pandas.ipynb",
      "provenance": [],
      "collapsed_sections": []
    },
    "kernelspec": {
      "name": "python3",
      "display_name": "Python 3"
    }
  },
  "cells": [
    {
      "cell_type": "markdown",
      "metadata": {
        "id": "ZU3EuFfMT6Ds",
        "colab_type": "text"
      },
      "source": [
        "# **Methods, Parameters, &, Arguments in Pandas**\n",
        "\n",
        "---\n",
        "\n"
      ]
    },
    {
      "cell_type": "code",
      "metadata": {
        "id": "pBb-iSarUBwe",
        "colab_type": "code",
        "colab": {}
      },
      "source": [
        "import pandas as pd"
      ],
      "execution_count": 0,
      "outputs": []
    },
    {
      "cell_type": "code",
      "metadata": {
        "id": "3HabOoSNUFtL",
        "colab_type": "code",
        "colab": {}
      },
      "source": [
        "rate = [3.99,4.54,6.52,5.55,7.91]"
      ],
      "execution_count": 0,
      "outputs": []
    },
    {
      "cell_type": "code",
      "metadata": {
        "id": "Al5Ki5vLUMyO",
        "colab_type": "code",
        "colab": {}
      },
      "source": [
        "r = pd.Series(rate)"
      ],
      "execution_count": 0,
      "outputs": []
    },
    {
      "cell_type": "code",
      "metadata": {
        "id": "Wa9g7FPeUPgv",
        "colab_type": "code",
        "colab": {
          "base_uri": "https://localhost:8080/",
          "height": 126
        },
        "outputId": "48f41d3c-affb-4352-a4ba-acedfb4dc509"
      },
      "source": [
        "r"
      ],
      "execution_count": 4,
      "outputs": [
        {
          "output_type": "execute_result",
          "data": {
            "text/plain": [
              "0    3.99\n",
              "1    4.54\n",
              "2    6.52\n",
              "3    5.55\n",
              "4    7.91\n",
              "dtype: float64"
            ]
          },
          "metadata": {
            "tags": []
          },
          "execution_count": 4
        }
      ]
    },
    {
      "cell_type": "code",
      "metadata": {
        "id": "CTXVLDEsUQWI",
        "colab_type": "code",
        "colab": {
          "base_uri": "https://localhost:8080/",
          "height": 35
        },
        "outputId": "624eda3d-9f66-4aaf-f832-b1dbc45fb5f2"
      },
      "source": [
        "r.sum()"
      ],
      "execution_count": 5,
      "outputs": [
        {
          "output_type": "execute_result",
          "data": {
            "text/plain": [
              "28.51"
            ]
          },
          "metadata": {
            "tags": []
          },
          "execution_count": 5
        }
      ]
    },
    {
      "cell_type": "code",
      "metadata": {
        "id": "a99KX6TpUSaD",
        "colab_type": "code",
        "colab": {
          "base_uri": "https://localhost:8080/",
          "height": 35
        },
        "outputId": "aad6a059-c76a-4362-fc8a-d2f8c5eb5bcf"
      },
      "source": [
        "r.product()"
      ],
      "execution_count": 6,
      "outputs": [
        {
          "output_type": "execute_result",
          "data": {
            "text/plain": [
              "5184.9647823959995"
            ]
          },
          "metadata": {
            "tags": []
          },
          "execution_count": 6
        }
      ]
    },
    {
      "cell_type": "code",
      "metadata": {
        "id": "brVORI8mUVdt",
        "colab_type": "code",
        "colab": {
          "base_uri": "https://localhost:8080/",
          "height": 35
        },
        "outputId": "407d6565-4b1e-457a-887a-49f29c710e38"
      },
      "source": [
        "r.mean()"
      ],
      "execution_count": 7,
      "outputs": [
        {
          "output_type": "execute_result",
          "data": {
            "text/plain": [
              "5.702"
            ]
          },
          "metadata": {
            "tags": []
          },
          "execution_count": 7
        }
      ]
    },
    {
      "cell_type": "code",
      "metadata": {
        "id": "u6bL7UyZUXj8",
        "colab_type": "code",
        "colab": {}
      },
      "source": [
        "fruits = ['Apple','Mango','Watermelon','Pineapple','Grapes']"
      ],
      "execution_count": 0,
      "outputs": []
    },
    {
      "cell_type": "code",
      "metadata": {
        "id": "sEgzFOBRUkeb",
        "colab_type": "code",
        "colab": {}
      },
      "source": [
        "weekdays = ['Mon','Tue','Wed','Thu','Fri']"
      ],
      "execution_count": 0,
      "outputs": []
    },
    {
      "cell_type": "code",
      "metadata": {
        "id": "VrIOsk5LUuyc",
        "colab_type": "code",
        "colab": {
          "base_uri": "https://localhost:8080/",
          "height": 126
        },
        "outputId": "fe9eb210-ab62-4946-a183-3b2208bdfd61"
      },
      "source": [
        "pd.Series(fruits,weekdays)"
      ],
      "execution_count": 10,
      "outputs": [
        {
          "output_type": "execute_result",
          "data": {
            "text/plain": [
              "Mon         Apple\n",
              "Tue         Mango\n",
              "Wed    Watermelon\n",
              "Thu     Pineapple\n",
              "Fri        Grapes\n",
              "dtype: object"
            ]
          },
          "metadata": {
            "tags": []
          },
          "execution_count": 10
        }
      ]
    },
    {
      "cell_type": "code",
      "metadata": {
        "id": "g0ClhT5eU01Q",
        "colab_type": "code",
        "colab": {
          "base_uri": "https://localhost:8080/",
          "height": 126
        },
        "outputId": "cc365f16-b0d8-42e6-dcf9-ee3782237ead"
      },
      "source": [
        "pd.Series(data = fruits, index=weekdays)"
      ],
      "execution_count": 11,
      "outputs": [
        {
          "output_type": "execute_result",
          "data": {
            "text/plain": [
              "Mon         Apple\n",
              "Tue         Mango\n",
              "Wed    Watermelon\n",
              "Thu     Pineapple\n",
              "Fri        Grapes\n",
              "dtype: object"
            ]
          },
          "metadata": {
            "tags": []
          },
          "execution_count": 11
        }
      ]
    },
    {
      "cell_type": "code",
      "metadata": {
        "id": "OQTJMcdVVPBp",
        "colab_type": "code",
        "colab": {
          "base_uri": "https://localhost:8080/",
          "height": 126
        },
        "outputId": "323ac3dc-6230-484c-d691-780f5f70a3d5"
      },
      "source": [
        "pd.Series(fruits, index=weekdays)"
      ],
      "execution_count": 12,
      "outputs": [
        {
          "output_type": "execute_result",
          "data": {
            "text/plain": [
              "Mon         Apple\n",
              "Tue         Mango\n",
              "Wed    Watermelon\n",
              "Thu     Pineapple\n",
              "Fri        Grapes\n",
              "dtype: object"
            ]
          },
          "metadata": {
            "tags": []
          },
          "execution_count": 12
        }
      ]
    }
  ]
}