{
  "nbformat": 4,
  "nbformat_minor": 0,
  "metadata": {
    "colab": {
      "name": "5 Sort Values & Inplace in Pandas.ipynb",
      "provenance": [],
      "collapsed_sections": []
    },
    "kernelspec": {
      "name": "python3",
      "display_name": "Python 3"
    }
  },
  "cells": [
    {
      "cell_type": "markdown",
      "metadata": {
        "id": "jqkDTuoahcao",
        "colab_type": "text"
      },
      "source": [
        "# **Sort Values & Inplace in Pandas**\n",
        "\n",
        "---\n",
        "\n"
      ]
    },
    {
      "cell_type": "code",
      "metadata": {
        "id": "WM0i_YVtc5q9",
        "colab_type": "code",
        "colab": {}
      },
      "source": [
        "import pandas as pd"
      ],
      "execution_count": 0,
      "outputs": []
    },
    {
      "cell_type": "code",
      "metadata": {
        "id": "MYI0lOIAeBXV",
        "colab_type": "code",
        "colab": {}
      },
      "source": [
        "from google.colab import files"
      ],
      "execution_count": 0,
      "outputs": []
    },
    {
      "cell_type": "code",
      "metadata": {
        "id": "b7LwgYD4eHP7",
        "colab_type": "code",
        "colab": {
          "resources": {
            "http://localhost:8080/nbextensions/google.colab/files.js": {
              "data": "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",
              "ok": true,
              "headers": [
                [
                  "content-type",
                  "application/javascript"
                ]
              ],
              "status": 200,
              "status_text": ""
            }
          },
          "base_uri": "https://localhost:8080/",
          "height": 75
        },
        "outputId": "23a43d21-67e0-43cb-bf8d-1596e5fd3f45"
      },
      "source": [
        "upload = files.upload()"
      ],
      "execution_count": 3,
      "outputs": [
        {
          "output_type": "display_data",
          "data": {
            "text/html": [
              "\n",
              "     <input type=\"file\" id=\"files-7cb6c180-bcef-4195-a485-19b5e703b366\" name=\"files[]\" multiple disabled />\n",
              "     <output id=\"result-7cb6c180-bcef-4195-a485-19b5e703b366\">\n",
              "      Upload widget is only available when the cell has been executed in the\n",
              "      current browser session. Please rerun this cell to enable.\n",
              "      </output>\n",
              "      <script src=\"/nbextensions/google.colab/files.js\"></script> "
            ],
            "text/plain": [
              "<IPython.core.display.HTML object>"
            ]
          },
          "metadata": {
            "tags": []
          }
        },
        {
          "output_type": "stream",
          "text": [
            "Saving pokemon.csv to pokemon.csv\n"
          ],
          "name": "stdout"
        }
      ]
    },
    {
      "cell_type": "code",
      "metadata": {
        "id": "EyxRb43EeKGQ",
        "colab_type": "code",
        "colab": {}
      },
      "source": [
        "pokemon = pd.read_csv('pokemon.csv', squeeze=True, usecols=['Pokemon'])"
      ],
      "execution_count": 0,
      "outputs": []
    },
    {
      "cell_type": "code",
      "metadata": {
        "id": "k-FQFBO8eZpX",
        "colab_type": "code",
        "colab": {
          "base_uri": "https://localhost:8080/",
          "height": 217
        },
        "outputId": "075acf10-2c7c-496a-b201-ffbf4fd7a87b"
      },
      "source": [
        "pokemon.sort_values().head(10)"
      ],
      "execution_count": 5,
      "outputs": [
        {
          "output_type": "execute_result",
          "data": {
            "text/plain": [
              "459     Abomasnow\n",
              "62           Abra\n",
              "358         Absol\n",
              "616      Accelgor\n",
              "680     Aegislash\n",
              "141    Aerodactyl\n",
              "305        Aggron\n",
              "189         Aipom\n",
              "64       Alakazam\n",
              "593     Alomomola\n",
              "Name: Pokemon, dtype: object"
            ]
          },
          "metadata": {
            "tags": []
          },
          "execution_count": 5
        }
      ]
    },
    {
      "cell_type": "code",
      "metadata": {
        "id": "DMZ8nrI7egci",
        "colab_type": "code",
        "colab": {
          "base_uri": "https://localhost:8080/",
          "height": 126
        },
        "outputId": "825147df-2deb-4a4a-aaaf-bd8ca62829c7"
      },
      "source": [
        "pokemon.sort_values(ascending=False).head()"
      ],
      "execution_count": 6,
      "outputs": [
        {
          "output_type": "execute_result",
          "data": {
            "text/plain": [
              "717     Zygarde\n",
              "633    Zweilous\n",
              "40        Zubat\n",
              "569       Zorua\n",
              "570     Zoroark\n",
              "Name: Pokemon, dtype: object"
            ]
          },
          "metadata": {
            "tags": []
          },
          "execution_count": 6
        }
      ]
    },
    {
      "cell_type": "code",
      "metadata": {
        "id": "drkRyKLefi7z",
        "colab_type": "code",
        "colab": {
          "resources": {
            "http://localhost:8080/nbextensions/google.colab/files.js": {
              "data": "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",
              "ok": true,
              "headers": [
                [
                  "content-type",
                  "application/javascript"
                ]
              ],
              "status": 200,
              "status_text": ""
            }
          },
          "base_uri": "https://localhost:8080/",
          "height": 113
        },
        "outputId": "3168e0a3-5b51-460d-ed06-6ecbdfa83b21"
      },
      "source": [
        "files.upload()"
      ],
      "execution_count": 8,
      "outputs": [
        {
          "output_type": "display_data",
          "data": {
            "text/html": [
              "\n",
              "     <input type=\"file\" id=\"files-2f1d320e-aa43-4d87-9144-b79ce5adef12\" name=\"files[]\" multiple disabled />\n",
              "     <output id=\"result-2f1d320e-aa43-4d87-9144-b79ce5adef12\">\n",
              "      Upload widget is only available when the cell has been executed in the\n",
              "      current browser session. Please rerun this cell to enable.\n",
              "      </output>\n",
              "      <script src=\"/nbextensions/google.colab/files.js\"></script> "
            ],
            "text/plain": [
              "<IPython.core.display.HTML object>"
            ]
          },
          "metadata": {
            "tags": []
          }
        },
        {
          "output_type": "stream",
          "text": [
            "Saving google_stock_price.csv to google_stock_price.csv\n"
          ],
          "name": "stdout"
        },
        {
          "output_type": "execute_result",
          "data": {
            "text/plain": [
              "{'google_stock_price.csv': b'Stock Price\\r\\n50.12\\r\\n54.1\\r\\n54.65\\r\\n52.38\\r\\n52.95\\r\\n53.9\\r\\n53.02\\r\\n50.95\\r\\n51.13\\r\\n50.07\\r\\n50.7\\r\\n49.95\\r\\n50.74\\r\\n51.1\\r\\n51.1\\r\\n52.61\\r\\n53.7\\r\\n55.69\\r\\n55.94\\r\\n56.93\\r\\n58.69\\r\\n59.62\\r\\n58.86\\r\\n59.13\\r\\n60.35\\r\\n59.86\\r\\n59.07\\r\\n63.37\\r\\n65.47\\r\\n64.74\\r\\n66.22\\r\\n67.46\\r\\n69.12\\r\\n68.47\\r\\n69.36\\r\\n68.8\\r\\n67.56\\r\\n68.63\\r\\n70.38\\r\\n70.93\\r\\n71.98\\r\\n74.51\\r\\n73.9\\r\\n70.17\\r\\n74.62\\r\\n86.13\\r\\n93.61\\r\\n90.81\\r\\n92.89\\r\\n96.55\\r\\n95.22\\r\\n97.92\\r\\n97.34\\r\\n95.74\\r\\n92.26\\r\\n84.59\\r\\n86.19\\r\\n84.27\\r\\n83.85\\r\\n91.42\\r\\n90.91\\r\\n92.34\\r\\n86.19\\r\\n86.16\\r\\n83.69\\r\\n84.62\\r\\n82.47\\r\\n83.68\\r\\n87.29\\r\\n89.61\\r\\n90.43\\r\\n90.9\\r\\n89.89\\r\\n89.61\\r\\n90.11\\r\\n88.06\\r\\n85.63\\r\\n84.91\\r\\n86.63\\r\\n85.74\\r\\n85.14\\r\\n89.26\\r\\n89.8\\r\\n88.15\\r\\n89.95\\r\\n92.42\\r\\n91.78\\r\\n93.06\\r\\n93.86\\r\\n95.86\\r\\n96.28\\r\\n96.35\\r\\n98.7\\r\\n96.3\\r\\n101.25\\r\\n97.15\\r\\n96.66\\r\\n94.18\\r\\n96.83\\r\\n97.43\\r\\n96.67\\r\\n97.59\\r\\n97.57\\r\\n99.89\\r\\n101.85\\r\\n98.55\\r\\n96.86\\r\\n94.05\\r\\n90.27\\r\\n88.47\\r\\n94.53\\r\\n93.95\\r\\n95.07\\r\\n97.71\\r\\n95.85\\r\\n102.88\\r\\n105.32\\r\\n102.08\\r\\n97.92\\r\\n99.22\\r\\n95.69\\r\\n93.9\\r\\n93.61\\r\\n96.4\\r\\n97.52\\r\\n99.11\\r\\n98.85\\r\\n98.88\\r\\n95.59\\r\\n96.88\\r\\n94.35\\r\\n92.84\\r\\n93.9\\r\\n92.94\\r\\n92.5\\r\\n93.41\\r\\n92.86\\r\\n94.31\\r\\n92.51\\r\\n90.58\\r\\n89.9\\r\\n88.81\\r\\n87.41\\r\\n89.22\\r\\n87.71\\r\\n89.56\\r\\n89.93\\r\\n90.35\\r\\n89.21\\r\\n89.4\\r\\n89.54\\r\\n90.62\\r\\n89.7\\r\\n90.13\\r\\n90.16\\r\\n89.93\\r\\n92.55\\r\\n94.19\\r\\n94.52\\r\\n96.78\\r\\n95.93\\r\\n96.52\\r\\n96.88\\r\\n96.37\\r\\n95.63\\r\\n92.41\\r\\n93.39\\r\\n95.6\\r\\n98.95\\r\\n102.01\\r\\n107.8\\r\\n111.65\\r\\n109.27\\r\\n109.78\\r\\n109.62\\r\\n109.89\\r\\n111.03\\r\\n112.98\\r\\n114.14\\r\\n113.38\\r\\n113.9\\r\\n112.9\\r\\n113.79\\r\\n115.53\\r\\n114.25\\r\\n114.51\\r\\n115.41\\r\\n116.45\\r\\n119.46\\r\\n119.47\\r\\n120.68\\r\\n127.6\\r\\n127.87\\r\\n130.27\\r\\n129.47\\r\\n132.87\\r\\n138.5\\r\\n143.86\\r\\n143.81\\r\\n139.99\\r\\n145.32\\r\\n146.41\\r\\n139.64\\r\\n143.01\\r\\n141.11\\r\\n141.23\\r\\n139.04\\r\\n137.26\\r\\n138.58\\r\\n140\\r\\n143.21\\r\\n143.78\\r\\n144.51\\r\\n144.71\\r\\n148.48\\r\\n151.9\\r\\n150.85\\r\\n146.21\\r\\n146.93\\r\\n145.48\\r\\n147.71\\r\\n145.62\\r\\n147.62\\r\\n147.97\\r\\n146.53\\r\\n145.75\\r\\n149.28\\r\\n150.29\\r\\n150.44\\r\\n149.62\\r\\n154.8\\r\\n155.84\\r\\n156.81\\r\\n151.05\\r\\n147.78\\r\\n147.9\\r\\n148.32\\r\\n146.6\\r\\n143.74\\r\\n145.66\\r\\n149.45\\r\\n148.5\\r\\n148.72\\r\\n146.03\\r\\n145.48\\r\\n145.64\\r\\n142.7\\r\\n141.88\\r\\n144.72\\r\\n141.86\\r\\n142.68\\r\\n142.41\\r\\n139.86\\r\\n139.86\\r\\n136.87\\r\\n139.65\\r\\n141.14\\r\\n141.15\\r\\n141.65\\r\\n144.08\\r\\n143.49\\r\\n142.86\\r\\n142.98\\r\\n144.08\\r\\n143.41\\r\\n147.29\\r\\n147.55\\r\\n149.4\\r\\n154.72\\r\\n155.68\\r\\n151.35\\r\\n151.16\\r\\n149.95\\r\\n151.74\\r\\n153.8\\r\\n155.79\\r\\n155.53\\r\\n157.52\\r\\n156.98\\r\\n156.81\\r\\n152.85\\r\\n154.66\\r\\n158.07\\r\\n159.18\\r\\n155.34\\r\\n155.2\\r\\n156.22\\r\\n156.34\\r\\n155.17\\r\\n152.9\\r\\n150.33\\r\\n148.57\\r\\n147.92\\r\\n152.35\\r\\n151.49\\r\\n154.2\\r\\n151.45\\r\\n169.78\\r\\n174.15\\r\\n173.28\\r\\n177.54\\r\\n176.35\\r\\n178.91\\r\\n185.88\\r\\n189.5\\r\\n189.65\\r\\n192.78\\r\\n195.02\\r\\n197.32\\r\\n194.76\\r\\n189.39\\r\\n195.35\\r\\n195\\r\\n198.29\\r\\n196.2\\r\\n198.88\\r\\n201.52\\r\\n199.9\\r\\n204.48\\r\\n208.03\\r\\n211.22\\r\\n214.1\\r\\n211.53\\r\\n201.57\\r\\n202.25\\r\\n206.84\\r\\n208.64\\r\\n202.72\\r\\n202.07\\r\\n201.91\\r\\n205.12\\r\\n204.4\\r\\n206.1\\r\\n208.54\\r\\n209.27\\r\\n211.05\\r\\n214.86\\r\\n212.09\\r\\n214.66\\r\\n212.95\\r\\n215.8\\r\\n215.25\\r\\n212.11\\r\\n213.13\\r\\n209.86\\r\\n207.22\\r\\n217.4\\r\\n222.4\\r\\n225.39\\r\\n232.6\\r\\n233.22\\r\\n234.65\\r\\n235.58\\r\\n231.58\\r\\n232.89\\r\\n233.32\\r\\n222.23\\r\\n218\\r\\n199.53\\r\\n213.54\\r\\n221.29\\r\\n216.28\\r\\n216.92\\r\\n216.53\\r\\n213.2\\r\\n216.11\\r\\n200.69\\r\\n197.82\\r\\n190.59\\r\\n192.36\\r\\n183.78\\r\\n184.36\\r\\n179.21\\r\\n181.12\\r\\n172.68\\r\\n171.49\\r\\n171.02\\r\\n183.05\\r\\n184.19\\r\\n183.11\\r\\n182.56\\r\\n188.85\\r\\n188.51\\r\\n194.99\\r\\n181.13\\r\\n182.22\\r\\n188.04\\r\\n188.9\\r\\n183.87\\r\\n182.04\\r\\n176.76\\r\\n171.33\\r\\n168.58\\r\\n168.36\\r\\n175.4\\r\\n172.08\\r\\n169.22\\r\\n169.73\\r\\n173.92\\r\\n169.79\\r\\n169.94\\r\\n170.77\\r\\n182.72\\r\\n184.66\\r\\n188.41\\r\\n197.29\\r\\n194.03\\r\\n194.8\\r\\n194.66\\r\\n201.97\\r\\n203.79\\r\\n205.38\\r\\n202.88\\r\\n207.98\\r\\n204.63\\r\\n204.27\\r\\n200.88\\r\\n203.21\\r\\n201.92\\r\\n205.04\\r\\n207.29\\r\\n218.33\\r\\n220.03\\r\\n213.37\\r\\n212.77\\r\\n209.8\\r\\n208.76\\r\\n199.25\\r\\n197.2\\r\\n196.89\\r\\n197.18\\r\\n196.95\\r\\n197.19\\r\\n204.2\\r\\n201.29\\r\\n193.31\\r\\n186.88\\r\\n187.91\\r\\n185.46\\r\\n187.06\\r\\n185.31\\r\\n184.82\\r\\n185.29\\r\\n187.6\\r\\n190.43\\r\\n191.3\\r\\n190.48\\r\\n185.78\\r\\n185.72\\r\\n191.12\\r\\n189.53\\r\\n187.03\\r\\n194.8\\r\\n193.06\\r\\n196.45\\r\\n193.09\\r\\n190.58\\r\\n193.07\\r\\n192\\r\\n195.3\\r\\n195.15\\r\\n193.88\\r\\n193.39\\r\\n200.86\\r\\n199.78\\r\\n202.23\\r\\n201.91\\r\\n200.96\\r\\n202.85\\r\\n208.7\\r\\n209.46\\r\\n211.39\\r\\n210.52\\r\\n211.38\\r\\n210.01\\r\\n208.89\\r\\n212.07\\r\\n208.42\\r\\n204.21\\r\\n201.55\\r\\n203.74\\r\\n201.32\\r\\n199.3\\r\\n193.37\\r\\n194.86\\r\\n195.25\\r\\n194.49\\r\\n192.56\\r\\n191.01\\r\\n193.87\\r\\n193.11\\r\\n187.57\\r\\n183.43\\r\\n187.51\\r\\n186.74\\r\\n188.79\\r\\n190.31\\r\\n188.28\\r\\n186.91\\r\\n184.07\\r\\n184.53\\r\\n190.29\\r\\n193.67\\r\\n192.71\\r\\n191.49\\r\\n188.46\\r\\n188.96\\r\\n186.53\\r\\n186.68\\r\\n186.44\\r\\n190.28\\r\\n189.29\\r\\n190.18\\r\\n189.08\\r\\n189.11\\r\\n191.99\\r\\n189.88\\r\\n189.06\\r\\n188.74\\r\\n191.85\\r\\n195.75\\r\\n203.08\\r\\n201.79\\r\\n204.74\\r\\n207.14\\r\\n201.7\\r\\n198.3\\r\\n203.22\\r\\n201.69\\r\\n201.79\\r\\n203.23\\r\\n201.26\\r\\n201.59\\r\\n200.75\\r\\n200.52\\r\\n201.82\\r\\n207.64\\r\\n205.7\\r\\n210.04\\r\\n214.29\\r\\n213.11\\r\\n213.04\\r\\n213.51\\r\\n213.44\\r\\n210.66\\r\\n210.11\\r\\n209.44\\r\\n212.82\\r\\n229.61\\r\\n240.15\\r\\n236.42\\r\\n243.06\\r\\n242.31\\r\\n237.36\\r\\n238.05\\r\\n237.96\\r\\n233.52\\r\\n234.72\\r\\n235.66\\r\\n238.24\\r\\n236.05\\r\\n237.26\\r\\n236.08\\r\\n236.54\\r\\n240.27\\r\\n244.41\\r\\n245.72\\r\\n247.7\\r\\n249.15\\r\\n247.28\\r\\n254.57\\r\\n253.75\\r\\n252.2\\r\\n242.13\\r\\n244.51\\r\\n242.08\\r\\n242.16\\r\\n240.16\\r\\n242.18\\r\\n243.26\\r\\n244.11\\r\\n241.08\\r\\n241.81\\r\\n241.72\\r\\n240.65\\r\\n239.26\\r\\n240.82\\r\\n239.91\\r\\n231.17\\r\\n234.08\\r\\n231.22\\r\\n227.87\\r\\n227.56\\r\\n228.54\\r\\n233.78\\r\\n231.05\\r\\n230.01\\r\\n233.56\\r\\n241.39\\r\\n243.35\\r\\n241.55\\r\\n242.51\\r\\n244.49\\r\\n249.61\\r\\n252.25\\r\\n251.89\\r\\n248.39\\r\\n243.67\\r\\n244.63\\r\\n240.18\\r\\n239.29\\r\\n249.28\\r\\n243.8\\r\\n247.67\\r\\n245.99\\r\\n246.91\\r\\n250.5\\r\\n240.63\\r\\n240.51\\r\\n233.35\\r\\n235.5\\r\\n234.77\\r\\n235.28\\r\\n230.71\\r\\n228.92\\r\\n229.32\\r\\n232.73\\r\\n230.5\\r\\n234.74\\r\\n235.81\\r\\n237.69\\r\\n237.69\\r\\n235.07\\r\\n232.23\\r\\n224.16\\r\\n224.5\\r\\n223.89\\r\\n219.12\\r\\n220.25\\r\\n228.55\\r\\n227.59\\r\\n227.13\\r\\n226.25\\r\\n227.15\\r\\n221.29\\r\\n223.78\\r\\n222.87\\r\\n220.2\\r\\n223.39\\r\\n222.42\\r\\n228.05\\r\\n230.79\\r\\n230.68\\r\\n232.27\\r\\n231.58\\r\\n230.71\\r\\n230.23\\r\\n228.85\\r\\n229.04\\r\\n236.06\\r\\n235.27\\r\\n235.52\\r\\n233.87\\r\\n233.02\\r\\n232.03\\r\\n233.46\\r\\n232.91\\r\\n236.9\\r\\n236.16\\r\\n237.77\\r\\n235.59\\r\\n241\\r\\n239.3\\r\\n238.53\\r\\n238.76\\r\\n240.35\\r\\n239.27\\r\\n235.45\\r\\n234.27\\r\\n232.66\\r\\n236.38\\r\\n235.32\\r\\n233.4\\r\\n233.17\\r\\n234.39\\r\\n230.5\\r\\n233.14\\r\\n230.66\\r\\n228.77\\r\\n236.07\\r\\n235.24\\r\\n234.92\\r\\n235.06\\r\\n237.69\\r\\n236.75\\r\\n236.93\\r\\n241.52\\r\\n243.31\\r\\n249.05\\r\\n248.71\\r\\n249.95\\r\\n253.28\\r\\n259.16\\r\\n258.87\\r\\n257.27\\r\\n257.49\\r\\n255.41\\r\\n252.13\\r\\n252.37\\r\\n251.17\\r\\n252.69\\r\\n257.34\\r\\n256.9\\r\\n254.73\\r\\n256.8\\r\\n262.23\\r\\n263.45\\r\\n264.86\\r\\n262.88\\r\\n262.24\\r\\n261.09\\r\\n264.92\\r\\n266.9\\r\\n270.54\\r\\n269.43\\r\\n271.01\\r\\n271.4\\r\\n271.96\\r\\n272.39\\r\\n275.8\\r\\n276.22\\r\\n277.22\\r\\n274.48\\r\\n274.02\\r\\n259.8\\r\\n256\\r\\n256.74\\r\\n254.63\\r\\n253.75\\r\\n255.69\\r\\n257.8\\r\\n254.74\\r\\n256.21\\r\\n255.25\\r\\n251.25\\r\\n254.74\\r\\n257.75\\r\\n262.63\\r\\n257.11\\r\\n257.62\\r\\n257.49\\r\\n254.05\\r\\n248.53\\r\\n245.51\\r\\n249.77\\r\\n248.71\\r\\n253.05\\r\\n256.12\\r\\n255.84\\r\\n257.24\\r\\n256.37\\r\\n252.95\\r\\n256.18\\r\\n255.44\\r\\n257.37\\r\\n262.31\\r\\n263.64\\r\\n261.5\\r\\n259.42\\r\\n256.98\\r\\n260.4\\r\\n261.06\\r\\n262.13\\r\\n264.11\\r\\n262.39\\r\\n267.37\\r\\n273.15\\r\\n276.14\\r\\n279.77\\r\\n283.73\\r\\n284.22\\r\\n283.8\\r\\n283.47\\r\\n283.35\\r\\n290.98\\r\\n291.9\\r\\n291.72\\r\\n289.23\\r\\n296.73\\r\\n304.51\\r\\n307.28\\r\\n312.38\\r\\n310.69\\r\\n318.38\\r\\n309.74\\r\\n307.69\\r\\n316.42\\r\\n319.49\\r\\n322.03\\r\\n325.05\\r\\n337.55\\r\\n337.57\\r\\n333.92\\r\\n336.96\\r\\n339.28\\r\\n347.04\\r\\n353.15\\r\\n351.25\\r\\n355.27\\r\\n362.46\\r\\n370.52\\r\\n366.1\\r\\n346.57\\r\\n331.65\\r\\n315.72\\r\\n329.94\\r\\n320.52\\r\\n314.51\\r\\n316.5\\r\\n312.61\\r\\n323.95\\r\\n329.93\\r\\n338.01\\r\\n332.7\\r\\n336.45\\r\\n345.78\\r\\n348.15\\r\\n346.15\\r\\n340.42\\r\\n341.74\\r\\n348.91\\r\\n357.27\\r\\n357.08\\r\\n358.85\\r\\n349.25\\r\\n349.33\\r\\n346.68\\r\\n344.64\\r\\n334.28\\r\\n336.34\\r\\n338.35\\r\\n344.5\\r\\n348\\r\\n350.01\\r\\n355.06\\r\\n350.02\\r\\n350.91\\r\\n345.39\\r\\n342.25\\r\\n342.32\\r\\n328.17\\r\\n324.3\\r\\n315.52\\r\\n326.27\\r\\n323.04\\r\\n318.81\\r\\n326.58\\r\\n318.51\\r\\n307.67\\r\\n300.09\\r\\n299.82\\r\\n291.88\\r\\n274.04\\r\\n286.96\\r\\n282.92\\r\\n277.71\\r\\n274.98\\r\\n273.86\\r\\n281.87\\r\\n257.69\\r\\n247.47\\r\\n253.15\\r\\n250.6\\r\\n252.22\\r\\n258.09\\r\\n260.32\\r\\n258.79\\r\\n267.04\\r\\n265.86\\r\\n264.56\\r\\n254.22\\r\\n254.25\\r\\n251.18\\r\\n253.65\\r\\n242.98\\r\\n231.86\\r\\n236.19\\r\\n237.46\\r\\n235.35\\r\\n228.28\\r\\n222.08\\r\\n223.63\\r\\n216.13\\r\\n216.46\\r\\n206.6\\r\\n219.7\\r\\n219.87\\r\\n221.28\\r\\n218.74\\r\\n209.73\\r\\n219.36\\r\\n215.78\\r\\n216.56\\r\\n230.05\\r\\n225.16\\r\\n228.87\\r\\n221.82\\r\\n218.82\\r\\n220.01\\r\\n232.62\\r\\n232.62\\r\\n227.33\\r\\n235.31\\r\\n238.17\\r\\n233.67\\r\\n231.86\\r\\n234.3\\r\\n228.5\\r\\n225.6\\r\\n223.2\\r\\n227.29\\r\\n224.55\\r\\n269.44\\r\\n268.63\\r\\n277.22\\r\\n272.97\\r\\n271.25\\r\\n271.76\\r\\n275.78\\r\\n278.96\\r\\n286.86\\r\\n296.24\\r\\n290.35\\r\\n297.15\\r\\n292.89\\r\\n289.21\\r\\n291.21\\r\\n286.3\\r\\n292.18\\r\\n291.21\\r\\n287.86\\r\\n290.21\\r\\n289.74\\r\\n288.47\\r\\n289.01\\r\\n274.72\\r\\n274.46\\r\\n272.04\\r\\n280.17\\r\\n283.84\\r\\n291.21\\r\\n292.61\\r\\n287.21\\r\\n283.37\\r\\n285.82\\r\\n292.86\\r\\n283.22\\r\\n278.66\\r\\n276.81\\r\\n272.33\\r\\n276.2\\r\\n285.47\\r\\n286.12\\r\\n284.45\\r\\n280.91\\r\\n279.82\\r\\n272.94\\r\\n272.33\\r\\n270.88\\r\\n275.22\\r\\n264.15\\r\\n263.77\\r\\n262.95\\r\\n267.1\\r\\n263.26\\r\\n268.23\\r\\n271.68\\r\\n276.99\\r\\n270.5\\r\\n270.02\\r\\n266.63\\r\\n260.55\\r\\n257.79\\r\\n267.53\\r\\n266.45\\r\\n240.42\\r\\n234.17\\r\\n238.32\\r\\n244.37\\r\\n237.57\\r\\n245.74\\r\\n238.32\\r\\n241.31\\r\\n241.11\\r\\n236.64\\r\\n233.7\\r\\n231.27\\r\\n239.69\\r\\n242.93\\r\\n239.32\\r\\n247.26\\r\\n250.17\\r\\n251.05\\r\\n249.76\\r\\n252.49\\r\\n254.82\\r\\n248.9\\r\\n245\\r\\n242.26\\r\\n243.02\\r\\n245.05\\r\\n241.26\\r\\n236.84\\r\\n234.06\\r\\n236.65\\r\\n231.41\\r\\n232.39\\r\\n231.97\\r\\n224.9\\r\\n221.9\\r\\n209.76\\r\\n209.12\\r\\n206.87\\r\\n216.66\\r\\n218.61\\r\\n216.71\\r\\n221.24\\r\\n207.04\\r\\n219.32\\r\\n224.35\\r\\n214.85\\r\\n214.42\\r\\n217.34\\r\\n219.58\\r\\n215.3\\r\\n190.31\\r\\n200.06\\r\\n205.65\\r\\n195.05\\r\\n193.26\\r\\n185.42\\r\\n172.83\\r\\n168.89\\r\\n164.33\\r\\n165.83\\r\\n190.32\\r\\n181.17\\r\\n169.42\\r\\n176.33\\r\\n186.08\\r\\n189.47\\r\\n181.19\\r\\n177.66\\r\\n175.98\\r\\n169.48\\r\\n164.58\\r\\n184.19\\r\\n178.82\\r\\n179.67\\r\\n179.5\\r\\n173.07\\r\\n183.29\\r\\n170.95\\r\\n165.44\\r\\n165.4\\r\\n159.23\\r\\n155.57\\r\\n145.35\\r\\n155.88\\r\\n154.85\\r\\n149.91\\r\\n148.56\\r\\n139.95\\r\\n129.65\\r\\n131.08\\r\\n128.59\\r\\n140.88\\r\\n145.9\\r\\n146.33\\r\\n132.86\\r\\n137.42\\r\\n139.58\\r\\n137.03\\r\\n141.85\\r\\n150.9\\r\\n152.83\\r\\n154.26\\r\\n149.96\\r\\n157.72\\r\\n155.18\\r\\n162.48\\r\\n157.46\\r\\n154.98\\r\\n154.93\\r\\n148.41\\r\\n148.86\\r\\n151.32\\r\\n150.03\\r\\n148.56\\r\\n151.4\\r\\n153.67\\r\\n160.5\\r\\n163.86\\r\\n166.86\\r\\n160.84\\r\\n162.43\\r\\n157.38\\r\\n156.19\\r\\n157\\r\\n150.33\\r\\n149.35\\r\\n149.69\\r\\n141.23\\r\\n151.39\\r\\n153.1\\r\\n162.19\\r\\n161.77\\r\\n165.57\\r\\n174.16\\r\\n171.49\\r\\n169.1\\r\\n170.11\\r\\n170.05\\r\\n171.33\\r\\n176.68\\r\\n185.45\\r\\n189.2\\r\\n179.08\\r\\n178.84\\r\\n181.34\\r\\n178.66\\r\\n171.16\\r\\n176.38\\r\\n171.15\\r\\n173.05\\r\\n164.86\\r\\n172.55\\r\\n170.65\\r\\n168.42\\r\\n168.83\\r\\n163.42\\r\\n162.58\\r\\n159.3\\r\\n152.67\\r\\n154.13\\r\\n145.3\\r\\n153.93\\r\\n158.8\\r\\n161.6\\r\\n162.05\\r\\n159.69\\r\\n167.5\\r\\n166.38\\r\\n164.81\\r\\n164.91\\r\\n174.13\\r\\n173.41\\r\\n171.86\\r\\n176.47\\r\\n173.68\\r\\n171.17\\r\\n173.86\\r\\n176.87\\r\\n181.07\\r\\n184.71\\r\\n183.94\\r\\n179.15\\r\\n180.82\\r\\n186.06\\r\\n188.87\\r\\n184.27\\r\\n189.56\\r\\n194.18\\r\\n195.92\\r\\n189.46\\r\\n190.54\\r\\n191.74\\r\\n192.15\\r\\n194.55\\r\\n192.78\\r\\n191.66\\r\\n195.54\\r\\n197.79\\r\\n196.65\\r\\n200.79\\r\\n201.29\\r\\n201.53\\r\\n198.11\\r\\n203.46\\r\\n203.79\\r\\n199.31\\r\\n194.58\\r\\n193.56\\r\\n194.8\\r\\n198.22\\r\\n199.24\\r\\n198.39\\r\\n198.05\\r\\n196.55\\r\\n201.98\\r\\n202.58\\r\\n204.99\\r\\n208.41\\r\\n213.07\\r\\n213.99\\r\\n215.61\\r\\n219.92\\r\\n221.94\\r\\n219.17\\r\\n217.59\\r\\n216.08\\r\\n214.29\\r\\n212.21\\r\\n208.18\\r\\n207.79\\r\\n207.37\\r\\n206.82\\r\\n209.83\\r\\n203.47\\r\\n202.64\\r\\n204.44\\r\\n207.68\\r\\n212.45\\r\\n211.86\\r\\n210.58\\r\\n209.29\\r\\n204.04\\r\\n204.6\\r\\n198.12\\r\\n201.04\\r\\n204.99\\r\\n206.99\\r\\n211.94\\r\\n212.13\\r\\n218.87\\r\\n221.08\\r\\n214.91\\r\\n214.87\\r\\n213.74\\r\\n213.63\\r\\n218.45\\r\\n223.14\\r\\n222.18\\r\\n219.71\\r\\n217.9\\r\\n222.6\\r\\n221.3\\r\\n225.88\\r\\n226.64\\r\\n225.34\\r\\n224.95\\r\\n228.32\\r\\n228.08\\r\\n226.74\\r\\n229.06\\r\\n230.91\\r\\n229.77\\r\\n222.22\\r\\n222.42\\r\\n221.76\\r\\n229.97\\r\\n232.39\\r\\n234.13\\r\\n235.45\\r\\n233.77\\r\\n232.8\\r\\n232.14\\r\\n230.6\\r\\n227.65\\r\\n226.28\\r\\n228.53\\r\\n230.42\\r\\n229.08\\r\\n231.75\\r\\n235.23\\r\\n235.83\\r\\n237.32\\r\\n238.53\\r\\n243.9\\r\\n245.61\\r\\n245.48\\r\\n248.25\\r\\n249.28\\r\\n248.98\\r\\n248.14\\r\\n245.99\\r\\n249.02\\r\\n249.02\\r\\n247.68\\r\\n243.36\\r\\n242.05\\r\\n244.02\\r\\n249.12\\r\\n258.51\\r\\n256.83\\r\\n257.87\\r\\n261.76\\r\\n262.79\\r\\n267.39\\r\\n264.69\\r\\n274.65\\r\\n275.77\\r\\n275.58\\r\\n275.27\\r\\n276.77\\r\\n276.57\\r\\n276.83\\r\\n273.87\\r\\n269.88\\r\\n275.25\\r\\n267.79\\r\\n266.73\\r\\n268.38\\r\\n269.89\\r\\n274.05\\r\\n275.27\\r\\n280.97\\r\\n283.1\\r\\n284.99\\r\\n283.64\\r\\n285.74\\r\\n287.85\\r\\n288.46\\r\\n288.04\\r\\n286.21\\r\\n284.7\\r\\n290.88\\r\\n291.25\\r\\n292.58\\r\\n289.59\\r\\n291.21\\r\\n294.64\\r\\n293.46\\r\\n292.58\\r\\n292.21\\r\\n292.83\\r\\n293.23\\r\\n294.22\\r\\n295.45\\r\\n294.96\\r\\n297.57\\r\\n296.27\\r\\n298.58\\r\\n296.67\\r\\n297.91\\r\\n299.04\\r\\n300.26\\r\\n305.53\\r\\n308.93\\r\\n311.12\\r\\n309.39\\r\\n311.05\\r\\n309.68\\r\\n313.06\\r\\n311.68\\r\\n303.83\\r\\n296.75\\r\\n300.71\\r\\n300.25\\r\\n294.94\\r\\n293.25\\r\\n294.63\\r\\n289.71\\r\\n293.52\\r\\n289.91\\r\\n291.2\\r\\n274.73\\r\\n269.73\\r\\n270.94\\r\\n270.78\\r\\n266.88\\r\\n264.71\\r\\n266.24\\r\\n265.29\\r\\n270.14\\r\\n263.13\\r\\n265.38\\r\\n266.47\\r\\n267.95\\r\\n266.96\\r\\n267.93\\r\\n266.29\\r\\n270.38\\r\\n268.83\\r\\n271.34\\r\\n270.11\\r\\n271.13\\r\\n267.27\\r\\n265.47\\r\\n262.95\\r\\n263.14\\r\\n266.08\\r\\n270.26\\r\\n272.39\\r\\n277.02\\r\\n281.82\\r\\n280.96\\r\\n279.81\\r\\n287.94\\r\\n290.28\\r\\n289.48\\r\\n281.31\\r\\n282.32\\r\\n282.5\\r\\n282.92\\r\\n279.72\\r\\n278.47\\r\\n274.23\\r\\n278.39\\r\\n281.16\\r\\n281.06\\r\\n280.94\\r\\n283.07\\r\\n283.28\\r\\n285.22\\r\\n283.83\\r\\n281.49\\r\\n283.46\\r\\n282.83\\r\\n286.08\\r\\n293.09\\r\\n294.21\\r\\n297.35\\r\\n274.8\\r\\n274.77\\r\\n277.24\\r\\n276.87\\r\\n273.26\\r\\n272.22\\r\\n265.55\\r\\n264.26\\r\\n264.33\\r\\n265.73\\r\\n262.58\\r\\n265.03\\r\\n252.93\\r\\n254.63\\r\\n249.09\\r\\n246.32\\r\\n260.56\\r\\n254.27\\r\\n252.44\\r\\n255.18\\r\\n253.51\\r\\n253.73\\r\\n248.94\\r\\n246.97\\r\\n237.27\\r\\n235.79\\r\\n238.34\\r\\n238.3\\r\\n237.5\\r\\n244.98\\r\\n242.57\\r\\n240.94\\r\\n246.44\\r\\n252.55\\r\\n249.11\\r\\n242.52\\r\\n242.15\\r\\n236.77\\r\\n243.26\\r\\n244.01\\r\\n241.35\\r\\n248.75\\r\\n250.38\\r\\n249.79\\r\\n249.76\\r\\n244.04\\r\\n242.88\\r\\n240.78\\r\\n237.31\\r\\n236.1\\r\\n235.8\\r\\n226.9\\r\\n222.25\\r\\n219.53\\r\\n218.06\\r\\n217.82\\r\\n224.87\\r\\n228.05\\r\\n233.51\\r\\n237.68\\r\\n244.36\\r\\n245.42\\r\\n246.76\\r\\n229.57\\r\\n232.86\\r\\n240.55\\r\\n238.51\\r\\n242.16\\r\\n244.78\\r\\n244.24\\r\\n246.07\\r\\n241.93\\r\\n242.25\\r\\n242.18\\r\\n244.96\\r\\n244.67\\r\\n252.91\\r\\n253.8\\r\\n249.86\\r\\n252.42\\r\\n251.6\\r\\n245.62\\r\\n245.76\\r\\n242.93\\r\\n242.55\\r\\n245.01\\r\\n240.83\\r\\n233.75\\r\\n230.78\\r\\n231.8\\r\\n225.47\\r\\n227.08\\r\\n225.26\\r\\n229.19\\r\\n226.12\\r\\n224.78\\r\\n229.94\\r\\n231.36\\r\\n234.91\\r\\n231.97\\r\\n235.05\\r\\n237.85\\r\\n237.83\\r\\n240.89\\r\\n239.97\\r\\n240.08\\r\\n240.29\\r\\n244.83\\r\\n253.89\\r\\n256.47\\r\\n257.74\\r\\n256.48\\r\\n263.38\\r\\n264.94\\r\\n263.32\\r\\n263.58\\r\\n262.63\\r\\n262.55\\r\\n260.91\\r\\n268.85\\r\\n266.91\\r\\n264.74\\r\\n267.91\\r\\n269.15\\r\\n270.42\\r\\n271.38\\r\\n270.19\\r\\n300.42\\r\\n308.55\\r\\n303.61\\r\\n303.69\\r\\n305.69\\r\\n305.96\\r\\n307.94\\r\\n308.99\\r\\n307.93\\r\\n308.98\\r\\n306.54\\r\\n307.19\\r\\n307.49\\r\\n309.78\\r\\n311.82\\r\\n312.23\\r\\n313.07\\r\\n312.1\\r\\n311.13\\r\\n308.29\\r\\n301.34\\r\\n297.44\\r\\n291.57\\r\\n291.48\\r\\n297.98\\r\\n295.12\\r\\n295.31\\r\\n291.21\\r\\n297.19\\r\\n294.7\\r\\n290.76\\r\\n277.58\\r\\n281.89\\r\\n285.62\\r\\n286.21\\r\\n288.89\\r\\n293.28\\r\\n294.97\\r\\n295.45\\r\\n295.81\\r\\n297.01\\r\\n297.16\\r\\n294.85\\r\\n295.56\\r\\n295.1\\r\\n297.23\\r\\n301.23\\r\\n302.44\\r\\n301.81\\r\\n300.89\\r\\n299.16\\r\\n300.2\\r\\n299.13\\r\\n296.69\\r\\n301.87\\r\\n300.76\\r\\n304.23\\r\\n306.44\\r\\n307.91\\r\\n306.8\\r\\n307.7\\r\\n308.13\\r\\n308.04\\r\\n311.78\\r\\n319.5\\r\\n315.56\\r\\n313.07\\r\\n305.61\\r\\n305.23\\r\\n309.65\\r\\n307.94\\r\\n308.09\\r\\n300.19\\r\\n299.88\\r\\n305.21\\r\\n305.69\\r\\n304.77\\r\\n305.18\\r\\n306.84\\r\\n308.88\\r\\n307.94\\r\\n307.91\\r\\n311.94\\r\\n313.76\\r\\n311.76\\r\\n311.8\\r\\n312.32\\r\\n314.72\\r\\n304.8\\r\\n305.35\\r\\n304.11\\r\\n304.71\\r\\n306.39\\r\\n300.08\\r\\n300.09\\r\\n304.48\\r\\n300.01\\r\\n295.53\\r\\n295.86\\r\\n295.59\\r\\n289.86\\r\\n288.07\\r\\n284.71\\r\\n284.5\\r\\n278.27\\r\\n280.4\\r\\n280.25\\r\\n287.96\\r\\n288.37\\r\\n290.79\\r\\n293.15\\r\\n289.58\\r\\n287.39\\r\\n290.57\\r\\n290.63\\r\\n293.09\\r\\n295.6\\r\\n293.55\\r\\n284.26\\r\\n286.8\\r\\n289.71\\r\\n288.79\\r\\n288.4\\r\\n285.02\\r\\n287.85\\r\\n288.97\\r\\n265.08\\r\\n263.16\\r\\n260.5\\r\\n262.6\\r\\n262.29\\r\\n262.26\\r\\n266.14\\r\\n268.61\\r\\n268.72\\r\\n271.78\\r\\n269.01\\r\\n266.68\\r\\n267.63\\r\\n266.87\\r\\n267.38\\r\\n268.57\\r\\n271.06\\r\\n267.46\\r\\n267.26\\r\\n264.51\\r\\n258.95\\r\\n264.96\\r\\n264.64\\r\\n265.36\\r\\n261.75\\r\\n258.94\\r\\n258.87\\r\\n259.58\\r\\n258.81\\r\\n260.19\\r\\n264.25\\r\\n262.54\\r\\n263.77\\r\\n261.28\\r\\n260.27\\r\\n259.26\\r\\n259.33\\r\\n258.11\\r\\n254.5\\r\\n252.11\\r\\n253.93\\r\\n251.22\\r\\n249.93\\r\\n242.27\\r\\n242.05\\r\\n246.25\\r\\n243.26\\r\\n239.87\\r\\n237.2\\r\\n241.2\\r\\n246.58\\r\\n248.54\\r\\n252.94\\r\\n260.25\\r\\n265.95\\r\\n267.41\\r\\n273.03\\r\\n265.73\\r\\n263.38\\r\\n266.74\\r\\n268.86\\r\\n264.21\\r\\n298.51\\r\\n297.17\\r\\n300.97\\r\\n297.38\\r\\n303.19\\r\\n308.81\\r\\n309.18\\r\\n310.95\\r\\n303.31\\r\\n305.16\\r\\n301.54\\r\\n303.08\\r\\n296.77\\r\\n300.28\\r\\n288.47\\r\\n289.23\\r\\n272.74\\r\\n286.42\\r\\n274.23\\r\\n280.78\\r\\n281.6\\r\\n278.34\\r\\n269.23\\r\\n266.31\\r\\n252.19\\r\\n245.21\\r\\n248.84\\r\\n259.15\\r\\n261.38\\r\\n259.76\\r\\n263.17\\r\\n269.27\\r\\n270.08\\r\\n270.21\\r\\n265.98\\r\\n262.16\\r\\n260.83\\r\\n266.75\\r\\n267.21\\r\\n262.16\\r\\n264.79\\r\\n264.5\\r\\n265.77\\r\\n271.01\\r\\n273.07\\r\\n273.06\\r\\n273.04\\r\\n269.33\\r\\n260.07\\r\\n262.49\\r\\n265.68\\r\\n269.4\\r\\n264.16\\r\\n263.49\\r\\n257.26\\r\\n247.51\\r\\n250.7\\r\\n252.1\\r\\n257.1\\r\\n257.3\\r\\n268.32\\r\\n271.32\\r\\n273.98\\r\\n279.22\\r\\n295.54\\r\\n290.91\\r\\n294.96\\r\\n290.06\\r\\n291.54\\r\\n294.95\\r\\n297.91\\r\\n291.29\\r\\n292.86\\r\\n299.04\\r\\n299.77\\r\\n296.02\\r\\n289.04\\r\\n292.12\\r\\n298.45\\r\\n297.77\\r\\n303.86\\r\\n305.86\\r\\n300.17\\r\\n297.24\\r\\n303.87\\r\\n306.19\\r\\n307.97\\r\\n305.43\\r\\n300.13\\r\\n297.14\\r\\n290.18\\r\\n289.71\\r\\n284.77\\r\\n281.22\\r\\n293.8\\r\\n291.17\\r\\n299.4\\r\\n306.58\\r\\n309.87\\r\\n312.51\\r\\n311.57\\r\\n311.38\\r\\n307.72\\r\\n313.4\\r\\n312.38\\r\\n312.5\\r\\n308.73\\r\\n309.46\\r\\n312.67\\r\\n310.6\\r\\n314.87\\r\\n312.6\\r\\n314.54\\r\\n316.25\\r\\n319.8\\r\\n319.53\\r\\n320.88\\r\\n322.63\\r\\n332.37\\r\\n333.81\\r\\n329.18\\r\\n324.68\\r\\n310.92\\r\\n311.26\\r\\n312.67\\r\\n314.51\\r\\n312.18\\r\\n313.98\\r\\n316.14\\r\\n319.47\\r\\n292.7\\r\\n292.47\\r\\n290.17\\r\\n284.46\\r\\n283.77\\r\\n289.7\\r\\n288.56\\r\\n289.76\\r\\n290.12\\r\\n292.26\\r\\n297.87\\r\\n304.24\\r\\n303.08\\r\\n304.62\\r\\n305.42\\r\\n302.65\\r\\n305.79\\r\\n304.58\\r\\n302.48\\r\\n302.96\\r\\n302.02\\r\\n306.69\\r\\n303.67\\r\\n302.75\\r\\n304.65\\r\\n304.35\\r\\n308.89\\r\\n308.82\\r\\n310.89\\r\\n310.31\\r\\n306.82\\r\\n302.18\\r\\n303.1\\r\\n303.27\\r\\n299.82\\r\\n302.27\\r\\n308.58\\r\\n307.69\\r\\n310.25\\r\\n312.21\\r\\n316.67\\r\\n316.43\\r\\n319.67\\r\\n322.7\\r\\n320.97\\r\\n324.34\\r\\n323.19\\r\\n327.55\\r\\n323.88\\r\\n320.3\\r\\n323.14\\r\\n320.99\\r\\n317.26\\r\\n315.84\\r\\n315.1\\r\\n313.12\\r\\n317.66\\r\\n325.18\\r\\n311.99\\r\\n302.73\\r\\n304.48\\r\\n303.42\\r\\n299.35\\r\\n297.73\\r\\n298.5\\r\\n300.33\\r\\n304.56\\r\\n307.43\\r\\n307.18\\r\\n302.12\\r\\n301.91\\r\\n303.33\\r\\n305.2\\r\\n298.19\\r\\n303.47\\r\\n306.09\\r\\n304.27\\r\\n306.52\\r\\n302.31\\r\\n301.7\\r\\n305.25\\r\\n314.15\\r\\n311.21\\r\\n299.9\\r\\n306.75\\r\\n300.1\\r\\n304.43\\r\\n301.53\\r\\n295.47\\r\\n296.87\\r\\n293.82\\r\\n290.14\\r\\n285.2\\r\\n289.01\\r\\n284.92\\r\\n289.99\\r\\n288.83\\r\\n289.93\\r\\n283.97\\r\\n282.27\\r\\n280.26\\r\\n279.25\\r\\n281.97\\r\\n285.14\\r\\n290.47\\r\\n288.47\\r\\n282.32\\r\\n285.45\\r\\n280.07\\r\\n282.06\\r\\n284.36\\r\\n281.87\\r\\n289.74\\r\\n289.94\\r\\n293.62\\r\\n297.66\\r\\n292.7\\r\\n292.71\\r\\n290.56\\r\\n285.31\\r\\n284.95\\r\\n287.97\\r\\n287.17\\r\\n288.08\\r\\n290.09\\r\\n296.23\\r\\n305.1\\r\\n307.45\\r\\n303.48\\r\\n303.69\\r\\n306.37\\r\\n317.16\\r\\n315.83\\r\\n316.17\\r\\n316.02\\r\\n314.06\\r\\n320.34\\r\\n321.09\\r\\n319.95\\r\\n320.79\\r\\n320.85\\r\\n320.68\\r\\n329.67\\r\\n334\\r\\n333.44\\r\\n336.1\\r\\n338.23\\r\\n337.43\\r\\n334.42\\r\\n338.25\\r\\n338.06\\r\\n338.98\\r\\n334.28\\r\\n338.29\\r\\n343.66\\r\\n340.5\\r\\n342.2\\r\\n340.18\\r\\n340.02\\r\\n349.35\\r\\n352.72\\r\\n350.03\\r\\n345.75\\r\\n345.1\\r\\n352.67\\r\\n354.49\\r\\n354.64\\r\\n358.78\\r\\n363.39\\r\\n363.69\\r\\n366.63\\r\\n374.32\\r\\n374.21\\r\\n376.35\\r\\n377.87\\r\\n376.87\\r\\n380.51\\r\\n378.12\\r\\n380.87\\r\\n383.64\\r\\n383.44\\r\\n378.54\\r\\n371.67\\r\\n371.91\\r\\n375.36\\r\\n372\\r\\n370.12\\r\\n371.98\\r\\n377.37\\r\\n347.15\\r\\n340.55\\r\\n339\\r\\n339.83\\r\\n338.31\\r\\n338.54\\r\\n337.24\\r\\n339.81\\r\\n343.45\\r\\n343.62\\r\\n341.14\\r\\n340.52\\r\\n333.23\\r\\n325.82\\r\\n331.18\\r\\n332.62\\r\\n329.2\\r\\n325.95\\r\\n323.31\\r\\n323.27\\r\\n333.77\\r\\n334.65\\r\\n332.6\\r\\n333.65\\r\\n330.24\\r\\n335.02\\r\\n341.49\\r\\n345.6\\r\\n348.84\\r\\n347.28\\r\\n345.17\\r\\n343.57\\r\\n345.22\\r\\n341.76\\r\\n342.37\\r\\n348.09\\r\\n348.43\\r\\n351\\r\\n350.63\\r\\n360.03\\r\\n360.17\\r\\n359.69\\r\\n360.82\\r\\n357.46\\r\\n354.4\\r\\n354.08\\r\\n352.79\\r\\n349.65\\r\\n353.34\\r\\n361.26\\r\\n361.47\\r\\n368.62\\r\\n367.01\\r\\n366.28\\r\\n368.69\\r\\n370.37\\r\\n369.62\\r\\n361.26\\r\\n362.1\\r\\n357.24\\r\\n355.3\\r\\n351.9\\r\\n351.08\\r\\n370.38\\r\\n376.54\\r\\n376.46\\r\\n374.99\\r\\n376.46\\r\\n376.54\\r\\n377.47\\r\\n387.4\\r\\n379.13\\r\\n382.49\\r\\n384.7\\r\\n386.59\\r\\n392.29\\r\\n390.82\\r\\n389.96\\r\\n391.04\\r\\n393.52\\r\\n396.05\\r\\n403.02\\r\\n395.83\\r\\n397.37\\r\\n399.46\\r\\n394.99\\r\\n394.67\\r\\n399.49\\r\\n400.2\\r\\n402.69\\r\\n410.34\\r\\n418.88\\r\\n415.27\\r\\n415.88\\r\\n415.34\\r\\n416.99\\r\\n413.39\\r\\n412.24\\r\\n410.36\\r\\n406.74\\r\\n403.49\\r\\n405.25\\r\\n406.95\\r\\n405.22\\r\\n404.75\\r\\n404.42\\r\\n405.8\\r\\n400.93\\r\\n396.7\\r\\n400.19\\r\\n406.11\\r\\n402.7\\r\\n397.14\\r\\n391.13\\r\\n387.04\\r\\n388.44\\r\\n394.69\\r\\n394.8\\r\\n394.63\\r\\n390.57\\r\\n396.29\\r\\n390.89\\r\\n382.57\\r\\n399.54\\r\\n399.66\\r\\n403.55\\r\\n406.32\\r\\n404.15\\r\\n400.31\\r\\n409.12\\r\\n411.87\\r\\n409.8\\r\\n414.39\\r\\n422.44\\r\\n430.34\\r\\n428.19\\r\\n436.38\\r\\n435.3\\r\\n439.67\\r\\n438.33\\r\\n443.11\\r\\n457.49\\r\\n451.48\\r\\n454.14\\r\\n453.81\\r\\n453.03\\r\\n444.27\\r\\n440.95\\r\\n436.22\\r\\n440.19\\r\\n433.72\\r\\n434.94\\r\\n435.17\\r\\n433.38\\r\\n429.12\\r\\n429.42\\r\\n431.89\\r\\n439.43\\r\\n444.66\\r\\n439.47\\r\\n435.55\\r\\n438.06\\r\\n437.08\\r\\n442.68\\r\\n449.86\\r\\n449.89\\r\\n441.93\\r\\n440.02\\r\\n434.46\\r\\n432.67\\r\\n436.39\\r\\n438.1\\r\\n439.74\\r\\n443.5\\r\\n440.71\\r\\n442.77\\r\\n446.3\\r\\n452.09\\r\\n452.17\\r\\n452.54\\r\\n459.66\\r\\n461.04\\r\\n461.88\\r\\n459.34\\r\\n458.82\\r\\n454.88\\r\\n447.85\\r\\n454.89\\r\\n451.45\\r\\n451\\r\\n443.41\\r\\n442.23\\r\\n440.69\\r\\n445.01\\r\\n443.43\\r\\n451.66\\r\\n452.83\\r\\n452.05\\r\\n447.84\\r\\n444.88\\r\\n445.88\\r\\n444.76\\r\\n442.31\\r\\n440.18\\r\\n434.47\\r\\n429.4\\r\\n428.03\\r\\n432.39\\r\\n432.28\\r\\n434.23\\r\\n436.42\\r\\n434.67\\r\\n432.76\\r\\n424.65\\r\\n423.85\\r\\n427.29\\r\\n423.03\\r\\n429.76\\r\\n435.38\\r\\n439.34\\r\\n439.35\\r\\n443.58\\r\\n443.89\\r\\n447.65\\r\\n446.08\\r\\n444.09\\r\\n443.44\\r\\n442.61\\r\\n451.21\\r\\n448.75\\r\\n451.1\\r\\n442.81\\r\\n442.98\\r\\n438.18\\r\\n438.65\\r\\n437.76\\r\\n437.52\\r\\n443.06\\r\\n443.55\\r\\n437.61\\r\\n435.74\\r\\n432.44\\r\\n426.41\\r\\n427.5\\r\\n433.69\\r\\n435.56\\r\\n437.62\\r\\n440.56\\r\\n448.56\\r\\n443.95\\r\\n505.2\\r\\n501.15\\r\\n503\\r\\n515.19\\r\\n512.26\\r\\n507.09\\r\\n506.99\\r\\n517.6\\r\\n514.69\\r\\n514.77\\r\\n513.01\\r\\n512.54\\r\\n510.25\\r\\n510.86\\r\\n503.47\\r\\n507.51\\r\\n504.79\\r\\n505.38\\r\\n515.72\\r\\n517.1\\r\\n516.26\\r\\n515.26\\r\\n512.09\\r\\n510.64\\r\\n516.52\\r\\n515.43\\r\\n522.44\\r\\n528.68\\r\\n531.02\\r\\n529.27\\r\\n526.71\\r\\n526.1\\r\\n528.56\\r\\n528.14\\r\\n534.4\\r\\n538.53\\r\\n541.79\\r\\n538.11\\r\\n534.45\\r\\n529.86\\r\\n535.95\\r\\n534.4\\r\\n541.83\\r\\n542.57\\r\\n549.76\\r\\n556.99\\r\\n555.36\\r\\n558.17\\r\\n558.64\\r\\n554.18\\r\\n559.79\\r\\n556\\r\\n551.95\\r\\n558.1\\r\\n568.86\\r\\n570.04\\r\\n564.55\\r\\n564.52\\r\\n560.93\\r\\n574.13\\r\\n573.74\\r\\n577.53\\r\\n574.69\\r\\n581.27\\r\\n581.93\\r\\n579.47\\r\\n561.35\\r\\n550.06\\r\\n560.94\\r\\n552.91\\r\\n567.13\\r\\n589.89\\r\\n566.15\\r\\n568.51\\r\\n571.03\\r\\n579.4\\r\\n588.13\\r\\n585.88\\r\\n594.49\\r\\n592.75\\r\\n599.35\\r\\n600.8\\r\\n604.83\\r\\n600.57\\r\\n601.45\\r\\n601.29\\r\\n605.65\\r\\n609.39\\r\\n609.47\\r\\n609\\r\\n607.22\\r\\n600.74\\r\\n606.85\\r\\n608.52\\r\\n609.2\\r\\n606.79\\r\\n605.18\\r\\n599.4\\r\\n603.05\\r\\n593.94\\r\\n585.81\\r\\n595.45\\r\\n605.02\\r\\n599.03\\r\\n597.98\\r\\n590.93\\r\\n578.39\\r\\n578.78\\r\\n565.42\\r\\n556.58\\r\\n559.51\\r\\n556.7\\r\\n566.88\\r\\n566.98\\r\\n569.74\\r\\n543.14\\r\\n538.15\\r\\n554.9\\r\\n564.14\\r\\n540.95\\r\\n530.6\\r\\n532.52\\r\\n536.44\\r\\n556.54\\r\\n536.1\\r\\n528.62\\r\\n534.81\\r\\n526.94\\r\\n525.16\\r\\n516.18\\r\\n517.15\\r\\n527.7\\r\\n526.66\\r\\n531.35\\r\\n527.93\\r\\n527.81\\r\\n515.14\\r\\n509.96\\r\\n511\\r\\n518.73\\r\\n529.92\\r\\n533.09\\r\\n526.65\\r\\n519.98\\r\\n520.63\\r\\n528.86\\r\\n529.77\\r\\n538.94\\r\\n545.06\\r\\n552.7\\r\\n565.95\\r\\n561.68\\r\\n560.08\\r\\n559.89\\r\\n553.93\\r\\n544.94\\r\\n544.66\\r\\n553.9\\r\\n556.33\\r\\n562.12\\r\\n560.55\\r\\n558.84\\r\\n551.35\\r\\n551.76\\r\\n544.28\\r\\n543.01\\r\\n553.37\\r\\n554.9\\r\\n556.36\\r\\n564.95\\r\\n564.62\\r\\n578.65\\r\\n576\\r\\n577.24\\r\\n575.28\\r\\n582.67\\r\\n582.34\\r\\n584.73\\r\\n582.25\\r\\n571.09\\r\\n576.08\\r\\n571.1\\r\\n579.18\\r\\n584.87\\r\\n584.78\\r\\n582.66\\r\\n573.73\\r\\n595.08\\r\\n589.47\\r\\n594.74\\r\\n595.98\\r\\n593.35\\r\\n589.02\\r\\n590.6\\r\\n585.61\\r\\n587.42\\r\\n571.6\\r\\n566.07\\r\\n573.15\\r\\n565.07\\r\\n566.37\\r\\n563.36\\r\\n568.77\\r\\n567.88\\r\\n562.73\\r\\n574.78\\r\\n574.65\\r\\n573.48\\r\\n582.16\\r\\n586.86\\r\\n584.49\\r\\n583.37\\r\\n582.56\\r\\n580.2\\r\\n577.86\\r\\n571\\r\\n569.2\\r\\n571.6\\r\\n577.33\\r\\n577.94\\r\\n581.98\\r\\n586.08\\r\\n589.72\\r\\n581.01\\r\\n583.1\\r\\n581.35\\r\\n575.62\\r\\n573.1\\r\\n579.95\\r\\n584.77\\r\\n589.27\\r\\n596.08\\r\\n587.37\\r\\n581.13\\r\\n587.99\\r\\n575.06\\r\\n577.1\\r\\n576.36\\r\\n577.36\\r\\n568.27\\r\\n570.08\\r\\n575.28\\r\\n577.35\\r\\n563.74\\r\\n572.5\\r\\n560.88\\r\\n544.49\\r\\n533.21\\r\\n537.94\\r\\n530.03\\r\\n524.51\\r\\n511.17\\r\\n520.84\\r\\n526.54\\r\\n532.71\\r\\n543.98\\r\\n539.78\\r\\n540.77\\r\\n548.9\\r\\n549.33\\r\\n550.31\\r\\n559.08\\r\\n555.22\\r\\n554.11\\r\\n545.92\\r\\n542.04\\r\\n541.01\\r\\n547.49\\r\\n550.29\\r\\n547.31\\r\\n545.38\\r\\n544.4\\r\\n536.51\\r\\n535.03\\r\\n536.99\\r\\n534.83\\r\\n537.5\\r\\n539.27\\r\\n541.08\\r\\n540.37\\r\\n541.83\\r\\n533.8\\r\\n533.75\\r\\n531.32\\r\\n537.31\\r\\n525.26\\r\\n526.98\\r\\n533.37\\r\\n526.06\\r\\n528.34\\r\\n518.66\\r\\n513.8\\r\\n495.39\\r\\n504.89\\r\\n511.1\\r\\n516.35\\r\\n524.87\\r\\n530.59\\r\\n528.77\\r\\n534.03\\r\\n530.33\\r\\n530.42\\r\\n526.4\\r\\n524.81\\r\\n513.87\\r\\n501.96\\r\\n501.1\\r\\n502.68\\r\\n496.17\\r\\n492.55\\r\\n496.18\\r\\n500.87\\r\\n501.79\\r\\n508.08\\r\\n506.9\\r\\n518.04\\r\\n534.39\\r\\n539.95\\r\\n535.21\\r\\n518.63\\r\\n510\\r\\n510.66\\r\\n534.52\\r\\n528.48\\r\\n529.24\\r\\n522.76\\r\\n527.58\\r\\n531\\r\\n527.83\\r\\n536.94\\r\\n535.97\\r\\n542.93\\r\\n549.01\\r\\n542.84\\r\\n539.7\\r\\n542.87\\r\\n538.95\\r\\n531.91\\r\\n536.09\\r\\n543.87\\r\\n555.48\\r\\n558.4\\r\\n571.34\\r\\n573.64\\r\\n573.37\\r\\n575.33\\r\\n567.68\\r\\n568.85\\r\\n555.01\\r\\n551.18\\r\\n555.51\\r\\n547.32\\r\\n554.51\\r\\n550.84\\r\\n559.5\\r\\n557.99\\r\\n560.36\\r\\n558.81\\r\\n570.19\\r\\n558.78\\r\\n555.17\\r\\n548.34\\r\\n552.03\\r\\n548\\r\\n542.56\\r\\n535.53\\r\\n536.76\\r\\n537.02\\r\\n541.61\\r\\n540.78\\r\\n540.01\\r\\n539.17\\r\\n530.39\\r\\n532.53\\r\\n533.8\\r\\n524.05\\r\\n535.38\\r\\n533.97\\r\\n539.36\\r\\n547\\r\\n565.06\\r\\n555.37\\r\\n553.68\\r\\n549.08\\r\\n537.34\\r\\n537.9\\r\\n540.78\\r\\n530.8\\r\\n524.22\\r\\n530.7\\r\\n538.22\\r\\n535.7\\r\\n529.04\\r\\n529.62\\r\\n538.4\\r\\n533.85\\r\\n532.3\\r\\n537.36\\r\\n539.27\\r\\n542.51\\r\\n540.11\\r\\n532.32\\r\\n539.79\\r\\n539.78\\r\\n532.11\\r\\n533.99\\r\\n539.18\\r\\n540.31\\r\\n536.7\\r\\n533.33\\r\\n526.83\\r\\n526.69\\r\\n536.69\\r\\n534.61\\r\\n532.33\\r\\n527.2\\r\\n528.15\\r\\n529.26\\r\\n536.73\\r\\n536.69\\r\\n538.19\\r\\n540.48\\r\\n537.84\\r\\n535.23\\r\\n531.69\\r\\n521.52\\r\\n520.51\\r\\n521.84\\r\\n523.4\\r\\n522.86\\r\\n525.02\\r\\n516.83\\r\\n520.68\\r\\n530.13\\r\\n546.55\\r\\n561.1\\r\\n560.22\\r\\n579.85\\r\\n672.93\\r\\n663.02\\r\\n662.3\\r\\n662.1\\r\\n644.28\\r\\n623.56\\r\\n627.26\\r\\n628\\r\\n631.93\\r\\n632.59\\r\\n625.61\\r\\n631.21\\r\\n629.25\\r\\n643.78\\r\\n642.68\\r\\n635.3\\r\\n633.73\\r\\n660.78\\r\\n659.56\\r\\n656.45\\r\\n657.12\\r\\n660.87\\r\\n656.13\\r\\n660.9\\r\\n646.83\\r\\n612.48\\r\\n589.61\\r\\n582.06\\r\\n628.62\\r\\n637.61\\r\\n630.38\\r\\n618.25\\r\\n597.79\\r\\n614.34\\r\\n606.25\\r\\n600.7\\r\\n614.66\\r\\n612.72\\r\\n621.35\\r\\n625.77\\r\\n623.24\\r\\n635.14\\r\\n635.98\\r\\n642.9\\r\\n629.25\\r\\n635.44\\r\\n622.69\\r\\n622.36\\r\\n625.8\\r\\n611.97\\r\\n594.89\\r\\n594.97\\r\\n608.42\\r\\n611.29\\r\\n626.91\\r\\n641.47\\r\\n645.44\\r\\n642.36\\r\\n639.16\\r\\n643.61\\r\\n646.67\\r\\n652.3\\r\\n651.16\\r\\n661.74\\r\\n662.2\\r\\n666.1\\r\\n650.28\\r\\n642.61\\r\\n651.79\\r\\n702\\r\\n712.78\\r\\n708.49\\r\\n712.95\\r\\n716.92\\r\\n710.81\\r\\n721.11\\r\\n722.16\\r\\n728.11\\r\\n731.25\\r\\n733.76\\r\\n724.89\\r\\n728.32\\r\\n735.4\\r\\n731.23\\r\\n717\\r\\n728.96\\r\\n725.3\\r\\n740\\r\\n738.41\\r\\n756.6\\r\\n755.98\\r\\n748.28\\r\\n748.15\\r\\n750.26\\r\\n742.6\\r\\n767.04\\r\\n762.38\\r\\n752.54\\r\\n766.81\\r\\n763.25\\r\\n762.37\\r\\n751.61\\r\\n749.46\\r\\n738.87\\r\\n747.77\\r\\n743.4\\r\\n758.09\\r\\n749.43\\r\\n739.31\\r\\n747.77\\r\\n750\\r\\n750.31\\r\\n748.4\\r\\n762.51\\r\\n776.6\\r\\n771\\r\\n758.88\\r\\n741.84\\r\\n742.58\\r\\n743.62\\r\\n726.39\\r\\n714.47\\r\\n716.03\\r\\n726.07\\r\\n700.56\\r\\n714.72\\r\\n694.45\\r\\n701.79\\r\\n698.45\\r\\n706.59\\r\\n725.25\\r\\n711.67\\r\\n713.04\\r\\n699.99\\r\\n730.96\\r\\n742.95\\r\\n752\\r\\n764.65\\r\\n726.95\\r\\n708.01\\r\\n683.57\\r\\n682.74\\r\\n678.11\\r\\n684.12\\r\\n683.11\\r\\n682.4\\r\\n691\\r\\n708.4\\r\\n697.35\\r\\n700.91\\r\\n706.46\\r\\n695.85\\r\\n699.56\\r\\n705.75\\r\\n705.07\\r\\n697.77\\r\\n718.81\\r\\n718.85\\r\\n712.42\\r\\n710.89\\r\\n695.16\\r\\n693.97\\r\\n705.24\\r\\n712.82\\r\\n726.82\\r\\n730.49\\r\\n728.33\\r\\n736.09\\r\\n737.78\\r\\n737.6\\r\\n742.09\\r\\n740.75\\r\\n738.06\\r\\n735.3\\r\\n733.53\\r\\n744.77\\r\\n750.53\\r\\n744.95\\r\\n749.91\\r\\n745.29\\r\\n737.8\\r\\n745.69\\r\\n740.28\\r\\n739.15\\r\\n736.1\\r\\n743.09\\r\\n751.72\\r\\n753.2\\r\\n759\\r\\n766.61\\r\\n753.93\\r\\n752.67\\r\\n759.14\\r\\n718.77\\r\\n723.15\\r\\n708.14\\r\\n705.84\\r\\n691.02\\r\\n693.01\\r\\n698.21\\r\\n692.36\\r\\n695.7\\r\\n701.43\\r\\n711.12\\r\\n712.9\\r\\n723.18\\r\\n715.29\\r\\n713.31\\r\\n710.83\\r\\n716.49\\r\\n706.23\\r\\n706.63\\r\\n700.32\\r\\n709.74\\r\\n704.24\\r\\n720.09\\r\\n725.27\\r\\n724.12\\r\\n732.66\\r\\n735.72\\r\\n734.15\\r\\n730.4\\r\\n722.34\\r\\n716.55\\r\\n716.65\\r\\n728.28\\r\\n728.58\\r\\n719.41\\r\\n718.36\\r\\n718.27\\r\\n718.92\\r\\n710.36\\r\\n691.72\\r\\n693.71\\r\\n695.94\\r\\n697.46\\r\\n701.87\\r\\n675.22\\r\\n668.26\\r\\n680.04\\r\\n684.11\\r\\n692.1\\r\\n699.21\\r\\n694.49\\r\\n697.77\\r\\n695.36\\r\\n705.63\\r\\n715.09\\r\\n720.64\\r\\n716.98\\r\\n720.95\\r\\n719.85\\r\\n733.78\\r\\n736.96\\r\\n741.19\\r\\n738.63\\r\\n742.74\\r\\n739.77\\r\\n738.42\\r\\n741.77\\r\\n745.91\\r\\n768.79\\r\\n772.88\\r\\n771.07\\r\\n773.18\\r\\n771.61\\r\\n782.22'}"
            ]
          },
          "metadata": {
            "tags": []
          },
          "execution_count": 8
        }
      ]
    },
    {
      "cell_type": "code",
      "metadata": {
        "id": "LAAeNOHlesqr",
        "colab_type": "code",
        "colab": {}
      },
      "source": [
        "google = pd.read_csv(\"google_stock_price.csv\", squeeze=True)"
      ],
      "execution_count": 0,
      "outputs": []
    },
    {
      "cell_type": "code",
      "metadata": {
        "id": "9TumwAJrffxf",
        "colab_type": "code",
        "colab": {
          "base_uri": "https://localhost:8080/",
          "height": 235
        },
        "outputId": "f03a5203-4668-4678-fea9-bda388da516d"
      },
      "source": [
        "google"
      ],
      "execution_count": 35,
      "outputs": [
        {
          "output_type": "execute_result",
          "data": {
            "text/plain": [
              "0        50.12\n",
              "1        54.10\n",
              "2        54.65\n",
              "3        52.38\n",
              "4        52.95\n",
              "         ...  \n",
              "3007    772.88\n",
              "3008    771.07\n",
              "3009    773.18\n",
              "3010    771.61\n",
              "3011    782.22\n",
              "Name: Stock Price, Length: 3012, dtype: float64"
            ]
          },
          "metadata": {
            "tags": []
          },
          "execution_count": 35
        }
      ]
    },
    {
      "cell_type": "code",
      "metadata": {
        "id": "6mHL23Nmfui3",
        "colab_type": "code",
        "colab": {
          "base_uri": "https://localhost:8080/",
          "height": 126
        },
        "outputId": "6c574410-cf8d-4f7b-f766-0c01a57acef9"
      },
      "source": [
        "google.head()"
      ],
      "execution_count": 36,
      "outputs": [
        {
          "output_type": "execute_result",
          "data": {
            "text/plain": [
              "0    50.12\n",
              "1    54.10\n",
              "2    54.65\n",
              "3    52.38\n",
              "4    52.95\n",
              "Name: Stock Price, dtype: float64"
            ]
          },
          "metadata": {
            "tags": []
          },
          "execution_count": 36
        }
      ]
    },
    {
      "cell_type": "code",
      "metadata": {
        "id": "yHDAmUEof2sE",
        "colab_type": "code",
        "colab": {}
      },
      "source": [
        "google = google.sort_values()"
      ],
      "execution_count": 0,
      "outputs": []
    },
    {
      "cell_type": "code",
      "metadata": {
        "id": "7zsMd7Sxf7ad",
        "colab_type": "code",
        "colab": {
          "base_uri": "https://localhost:8080/",
          "height": 126
        },
        "outputId": "9ef6f2f7-a21b-41a0-afc3-f01d691d5fae"
      },
      "source": [
        "google.head()"
      ],
      "execution_count": 43,
      "outputs": [
        {
          "output_type": "execute_result",
          "data": {
            "text/plain": [
              "11    49.95\n",
              "9     50.07\n",
              "0     50.12\n",
              "10    50.70\n",
              "12    50.74\n",
              "Name: Stock Price, dtype: float64"
            ]
          },
          "metadata": {
            "tags": []
          },
          "execution_count": 43
        }
      ]
    },
    {
      "cell_type": "code",
      "metadata": {
        "id": "YJH-K6xwf_vb",
        "colab_type": "code",
        "colab": {}
      },
      "source": [
        "google.sort_values(ascending = False, inplace= True)"
      ],
      "execution_count": 0,
      "outputs": []
    },
    {
      "cell_type": "code",
      "metadata": {
        "id": "3QX1T8IngNEH",
        "colab_type": "code",
        "colab": {
          "base_uri": "https://localhost:8080/",
          "height": 126
        },
        "outputId": "ffc30fb3-a241-4aaa-92dd-50baee306255"
      },
      "source": [
        "google.head()"
      ],
      "execution_count": 46,
      "outputs": [
        {
          "output_type": "execute_result",
          "data": {
            "text/plain": [
              "3011    782.22\n",
              "2859    776.60\n",
              "3009    773.18\n",
              "3007    772.88\n",
              "3010    771.61\n",
              "Name: Stock Price, dtype: float64"
            ]
          },
          "metadata": {
            "tags": []
          },
          "execution_count": 46
        }
      ]
    }
  ]
}